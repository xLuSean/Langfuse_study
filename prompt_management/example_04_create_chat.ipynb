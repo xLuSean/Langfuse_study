{
 "cells": [
  {
   "cell_type": "code",
   "execution_count": 1,
   "metadata": {},
   "outputs": [],
   "source": [
    "from dotenv import load_dotenv\n",
    "load_dotenv()\n",
    "import rich"
   ]
  },
  {
   "cell_type": "code",
   "execution_count": 2,
   "metadata": {},
   "outputs": [],
   "source": [
    "from langfuse import Langfuse\n",
    "langfuse = Langfuse()"
   ]
  },
  {
   "cell_type": "markdown",
   "metadata": {},
   "source": [
    "### Create Langfuse prompt template"
   ]
  },
  {
   "cell_type": "code",
   "execution_count": null,
   "metadata": {},
   "outputs": [],
   "source": [
    "langfuse.create_prompt(\n",
    "    name=\"event-planner-chat\",\n",
    "    prompt=[\n",
    "        {\"role\":\"system\", \"content\":\"You are an senior event planner.\"},\n",
    "        {\"role\":\"user\", \"content\": \n",
    "            \"Plan an event titled {{Event_Name}}. The event will be about: {{Event_Description}}. \"\n",
    "            \"The event will be held in {{Location}} on {{Date}}. \"\n",
    "            \"Consider the following factors: audience, budget, venue, catering options, and entertainment. \"\n",
    "            \"Provide a detailed plan including potential vendors and logistics.\",\n",
    "        }\n",
    "    ],\n",
    "    type=\"chat\", # need to set type to chat, when creating a \"chat\" prompt(with role setting)\n",
    "    config={\n",
    "        \"model\":\"gpt-4o-mini\",\n",
    "        \"temperature\": 0,\n",
    "    },\n",
    "    labels=[\"production\"]\n",
    ")"
   ]
  },
  {
   "cell_type": "markdown",
   "metadata": {},
   "source": [
    "### Get Langfuse Prompt\n",
    "* We can still write `fallback prompt` in the codebase, just in case. \n",
    "* `cache_ttl_seconds` is setting prompt cache in seconds. If hit the cache, then no fetch"
   ]
  },
  {
   "cell_type": "code",
   "execution_count": 9,
   "metadata": {},
   "outputs": [],
   "source": [
    "langfuse_chat_prompt_template = langfuse.get_prompt(\n",
    "    # name=\"event-planner\",\n",
    "    name=\"event-planner-chat\",\n",
    "    label=\"production\",\n",
    "    cache_ttl_seconds=30, # default is 60\n",
    "    # default prompt if no cache and fetch is failed\n",
    "    fallback=\"I'm sorry, I'm not sure what you're asking for. Could you please provide more details?\",\n",
    "    max_retries= 2 # default is 2(s), max is 4(s), max delay is 10(s)\n",
    ")"
   ]
  },
  {
   "cell_type": "markdown",
   "metadata": {},
   "source": [
    "We can get the prompt, config, version ... so on, from the object"
   ]
  },
  {
   "cell_type": "code",
   "execution_count": 10,
   "metadata": {},
   "outputs": [
    {
     "data": {
      "text/html": [
       "<pre style=\"white-space:pre;overflow-x:auto;line-height:normal;font-family:Menlo,'DejaVu Sans Mono',consolas,'Courier New',monospace\"><span style=\"font-weight: bold\">[</span>\n",
       "    <span style=\"font-weight: bold\">{</span><span style=\"color: #008000; text-decoration-color: #008000\">'role'</span>: <span style=\"color: #008000; text-decoration-color: #008000\">'system'</span>, <span style=\"color: #008000; text-decoration-color: #008000\">'content'</span>: <span style=\"color: #008000; text-decoration-color: #008000\">'You are an senior event planner.'</span><span style=\"font-weight: bold\">}</span>,\n",
       "    <span style=\"font-weight: bold\">{</span>\n",
       "        <span style=\"color: #008000; text-decoration-color: #008000\">'role'</span>: <span style=\"color: #008000; text-decoration-color: #008000\">'user'</span>,\n",
       "        <span style=\"color: #008000; text-decoration-color: #008000\">'content'</span>: <span style=\"color: #008000; text-decoration-color: #008000\">'Plan an event titled {{Event_Name}}. The event will be about: {{Event_Description}}. The event </span>\n",
       "<span style=\"color: #008000; text-decoration-color: #008000\">will be held in {{Location}} on {{Date}}. Consider the following factors: audience, budget, venue, catering </span>\n",
       "<span style=\"color: #008000; text-decoration-color: #008000\">options, and entertainment. Provide a detailed plan including potential vendors and logistics.'</span>\n",
       "    <span style=\"font-weight: bold\">}</span>\n",
       "<span style=\"font-weight: bold\">]</span>\n",
       "</pre>\n"
      ],
      "text/plain": [
       "\u001b[1m[\u001b[0m\n",
       "    \u001b[1m{\u001b[0m\u001b[32m'role'\u001b[0m: \u001b[32m'system'\u001b[0m, \u001b[32m'content'\u001b[0m: \u001b[32m'You are an senior event planner.'\u001b[0m\u001b[1m}\u001b[0m,\n",
       "    \u001b[1m{\u001b[0m\n",
       "        \u001b[32m'role'\u001b[0m: \u001b[32m'user'\u001b[0m,\n",
       "        \u001b[32m'content'\u001b[0m: \u001b[32m'Plan an event titled \u001b[0m\u001b[32m{\u001b[0m\u001b[32m{\u001b[0m\u001b[32mEvent_Name\u001b[0m\u001b[32m}\u001b[0m\u001b[32m}\u001b[0m\u001b[32m. The event will be about: \u001b[0m\u001b[32m{\u001b[0m\u001b[32m{\u001b[0m\u001b[32mEvent_Description\u001b[0m\u001b[32m}\u001b[0m\u001b[32m}\u001b[0m\u001b[32m. The event \u001b[0m\n",
       "\u001b[32mwill be held in \u001b[0m\u001b[32m{\u001b[0m\u001b[32m{\u001b[0m\u001b[32mLocation\u001b[0m\u001b[32m}\u001b[0m\u001b[32m}\u001b[0m\u001b[32m on \u001b[0m\u001b[32m{\u001b[0m\u001b[32m{\u001b[0m\u001b[32mDate\u001b[0m\u001b[32m}\u001b[0m\u001b[32m}\u001b[0m\u001b[32m. Consider the following factors: audience, budget, venue, catering \u001b[0m\n",
       "\u001b[32moptions, and entertainment. Provide a detailed plan including potential vendors and logistics.'\u001b[0m\n",
       "    \u001b[1m}\u001b[0m\n",
       "\u001b[1m]\u001b[0m\n"
      ]
     },
     "metadata": {},
     "output_type": "display_data"
    },
    {
     "data": {
      "text/html": [
       "<pre style=\"white-space:pre;overflow-x:auto;line-height:normal;font-family:Menlo,'DejaVu Sans Mono',consolas,'Courier New',monospace\"><span style=\"font-weight: bold\">{</span><span style=\"color: #008000; text-decoration-color: #008000\">'model'</span>: <span style=\"color: #008000; text-decoration-color: #008000\">'gpt-4o-mini'</span>, <span style=\"color: #008000; text-decoration-color: #008000\">'temperature'</span>: <span style=\"color: #008080; text-decoration-color: #008080; font-weight: bold\">0</span><span style=\"font-weight: bold\">}</span>\n",
       "</pre>\n"
      ],
      "text/plain": [
       "\u001b[1m{\u001b[0m\u001b[32m'model'\u001b[0m: \u001b[32m'gpt-4o-mini'\u001b[0m, \u001b[32m'temperature'\u001b[0m: \u001b[1;36m0\u001b[0m\u001b[1m}\u001b[0m\n"
      ]
     },
     "metadata": {},
     "output_type": "display_data"
    },
    {
     "name": "stdout",
     "output_type": "stream",
     "text": [
      "1\n"
     ]
    }
   ],
   "source": [
    "rich.print(langfuse_chat_prompt_template.prompt)\n",
    "rich.print(langfuse_chat_prompt_template.config)\n",
    "print(langfuse_chat_prompt_template.version)"
   ]
  },
  {
   "cell_type": "markdown",
   "metadata": {},
   "source": [
    "#### Check are we using fallback prompt\n",
    "* We can set a warning, tag or trace, something for use to know fallback happened "
   ]
  },
  {
   "cell_type": "code",
   "execution_count": null,
   "metadata": {},
   "outputs": [
    {
     "name": "stdout",
     "output_type": "stream",
     "text": [
      "False\n"
     ]
    }
   ],
   "source": [
    "print(langfuse_chat_prompt_template.is_fallback)"
   ]
  },
  {
   "cell_type": "code",
   "execution_count": null,
   "metadata": {},
   "outputs": [
    {
     "data": {
      "text/plain": [
       "[{'content': 'You are an senior event planner.', 'role': 'system'},\n",
       " {'content': 'Plan an event titled My Birthday Party. The event will be about: A fun party. The event will be held in My house on Saturday. Consider the following factors: audience, budget, venue, catering options, and entertainment. Provide a detailed plan including potential vendors and logistics.',\n",
       "  'role': 'user'}]"
      ]
     },
     "execution_count": 14,
     "metadata": {},
     "output_type": "execute_result"
    }
   ],
   "source": [
    "langfuse_chat_prompt_template.compile(\n",
    "    Event_Name=\"My Birthday Party\",\n",
    "    Event_Description=\"A fun party\",\n",
    "    Location=\"My house\",\n",
    "    Date=\"Saturday\"\n",
    "    )"
   ]
  },
  {
   "cell_type": "code",
   "execution_count": 11,
   "metadata": {},
   "outputs": [
    {
     "name": "stdout",
     "output_type": "stream",
     "text": [
      "[('system', 'You are an senior event planner.'), ('user', 'Plan an event titled {Event_Name}. The event will be about: {Event_Description}. The event will be held in {Location} on {Date}. Consider the following factors: audience, budget, venue, catering options, and entertainment. Provide a detailed plan including potential vendors and logistics.')]\n",
      "<class 'list'>\n"
     ]
    }
   ],
   "source": [
    "langchain_prompt_template = langfuse_chat_prompt_template.get_langchain_prompt()\n",
    "print(langchain_prompt_template)\n",
    "print(type(langchain_prompt_template))"
   ]
  },
  {
   "cell_type": "code",
   "execution_count": 6,
   "metadata": {},
   "outputs": [],
   "source": [
    "from langchain_core.prompts import ChatPromptTemplate"
   ]
  },
  {
   "cell_type": "markdown",
   "metadata": {},
   "source": [
    "### Convert into langchain prompt template"
   ]
  },
  {
   "cell_type": "code",
   "execution_count": 12,
   "metadata": {},
   "outputs": [],
   "source": [
    "langchain_prompt_template = ChatPromptTemplate.from_messages(\n",
    "    messages=langfuse_chat_prompt_template.get_langchain_prompt(),\n",
    "    )\n",
    "\n",
    "# langchain_prompt_template = ChatPromptTemplate.from_messages(\n",
    "#     messages=langfuse_chat_prompt_template.get_langchain_prompt(),\n",
    "#     ).with_config(run_name=\"event planner pomrpt template\")"
   ]
  },
  {
   "cell_type": "markdown",
   "metadata": {},
   "source": [
    "#### Partial\n",
    "* We can set format instruction by partial variable, so it will dynamically change with schema"
   ]
  },
  {
   "cell_type": "code",
   "execution_count": 24,
   "metadata": {},
   "outputs": [
    {
     "name": "stdout",
     "output_type": "stream",
     "text": [
      "input_variables=['Date', 'Event_Description', 'Event_Name', 'Location'] input_types={} partial_variables={} messages=[SystemMessagePromptTemplate(prompt=PromptTemplate(input_variables=[], input_types={}, partial_variables={}, template='You are an senior event planner.'), additional_kwargs={}), HumanMessagePromptTemplate(prompt=PromptTemplate(input_variables=['Date', 'Event_Description', 'Event_Name', 'Location'], input_types={}, partial_variables={}, template='Plan an event titled {Event_Name}. The event will be about: {Event_Description}. The event will be held in {Location} on {Date}. Consider the following factors: audience, budget, venue, catering options, and entertainment. Provide a detailed plan including potential vendors and logistics.'), additional_kwargs={})]\n",
      "input_variables=['Date', 'Event_Description', 'Location'] input_types={} partial_variables={'Event_Name': 'My Birthday Party'} messages=[SystemMessagePromptTemplate(prompt=PromptTemplate(input_variables=[], input_types={}, partial_variables={}, template='You are an senior event planner.'), additional_kwargs={}), HumanMessagePromptTemplate(prompt=PromptTemplate(input_variables=['Date', 'Event_Description', 'Event_Name', 'Location'], input_types={}, partial_variables={}, template='Plan an event titled {Event_Name}. The event will be about: {Event_Description}. The event will be held in {Location} on {Date}. Consider the following factors: audience, budget, venue, catering options, and entertainment. Provide a detailed plan including potential vendors and logistics.'), additional_kwargs={})]\n"
     ]
    }
   ],
   "source": [
    "print(langchain_prompt_template)\n",
    "print(langchain_prompt_template.partial(Event_Name=\"My Birthday Party\"))"
   ]
  },
  {
   "cell_type": "markdown",
   "metadata": {},
   "source": [
    "### For tracking the prompt generation in Langfuse\n",
    "* set the `langfuse_prompt` object in template metadata for Langfuse to track the gneration"
   ]
  },
  {
   "cell_type": "code",
   "execution_count": 13,
   "metadata": {},
   "outputs": [],
   "source": [
    "langchain_prompt_template.metadata = {\"langfuse_prompt\": langfuse_chat_prompt_template}"
   ]
  },
  {
   "cell_type": "code",
   "execution_count": 10,
   "metadata": {},
   "outputs": [
    {
     "data": {
      "text/html": [
       "<pre style=\"white-space:pre;overflow-x:auto;line-height:normal;font-family:Menlo,'DejaVu Sans Mono',consolas,'Courier New',monospace\"><span style=\"color: #800080; text-decoration-color: #800080; font-weight: bold\">ChatPromptTemplate</span><span style=\"font-weight: bold\">(</span>\n",
       "    <span style=\"color: #808000; text-decoration-color: #808000\">input_variables</span>=<span style=\"font-weight: bold\">[</span><span style=\"color: #008000; text-decoration-color: #008000\">'Date'</span>, <span style=\"color: #008000; text-decoration-color: #008000\">'Event_Description'</span>, <span style=\"color: #008000; text-decoration-color: #008000\">'Event_Name'</span>, <span style=\"color: #008000; text-decoration-color: #008000\">'Location'</span><span style=\"font-weight: bold\">]</span>,\n",
       "    <span style=\"color: #808000; text-decoration-color: #808000\">input_types</span>=<span style=\"font-weight: bold\">{}</span>,\n",
       "    <span style=\"color: #808000; text-decoration-color: #808000\">partial_variables</span>=<span style=\"font-weight: bold\">{}</span>,\n",
       "    <span style=\"color: #808000; text-decoration-color: #808000\">metadata</span>=<span style=\"font-weight: bold\">{</span><span style=\"color: #008000; text-decoration-color: #008000\">'langfuse_prompt'</span>: <span style=\"font-weight: bold\">&lt;</span><span style=\"color: #ff00ff; text-decoration-color: #ff00ff; font-weight: bold\">langfuse.model.ChatPromptClient</span><span style=\"color: #000000; text-decoration-color: #000000\"> object at </span><span style=\"color: #008080; text-decoration-color: #008080; font-weight: bold\">0x105fd1fd0</span><span style=\"font-weight: bold\">&gt;}</span>,\n",
       "    <span style=\"color: #808000; text-decoration-color: #808000\">messages</span>=<span style=\"font-weight: bold\">[</span>\n",
       "        <span style=\"color: #800080; text-decoration-color: #800080; font-weight: bold\">SystemMessagePromptTemplate</span><span style=\"font-weight: bold\">(</span>\n",
       "            <span style=\"color: #808000; text-decoration-color: #808000\">prompt</span>=<span style=\"color: #800080; text-decoration-color: #800080; font-weight: bold\">PromptTemplate</span><span style=\"font-weight: bold\">(</span>\n",
       "                <span style=\"color: #808000; text-decoration-color: #808000\">input_variables</span>=<span style=\"font-weight: bold\">[]</span>,\n",
       "                <span style=\"color: #808000; text-decoration-color: #808000\">input_types</span>=<span style=\"font-weight: bold\">{}</span>,\n",
       "                <span style=\"color: #808000; text-decoration-color: #808000\">partial_variables</span>=<span style=\"font-weight: bold\">{}</span>,\n",
       "                <span style=\"color: #808000; text-decoration-color: #808000\">template</span>=<span style=\"color: #008000; text-decoration-color: #008000\">'You are an senior event planner.'</span>\n",
       "            <span style=\"font-weight: bold\">)</span>,\n",
       "            <span style=\"color: #808000; text-decoration-color: #808000\">additional_kwargs</span>=<span style=\"font-weight: bold\">{}</span>\n",
       "        <span style=\"font-weight: bold\">)</span>,\n",
       "        <span style=\"color: #800080; text-decoration-color: #800080; font-weight: bold\">HumanMessagePromptTemplate</span><span style=\"font-weight: bold\">(</span>\n",
       "            <span style=\"color: #808000; text-decoration-color: #808000\">prompt</span>=<span style=\"color: #800080; text-decoration-color: #800080; font-weight: bold\">PromptTemplate</span><span style=\"font-weight: bold\">(</span>\n",
       "                <span style=\"color: #808000; text-decoration-color: #808000\">input_variables</span>=<span style=\"font-weight: bold\">[</span><span style=\"color: #008000; text-decoration-color: #008000\">'Date'</span>, <span style=\"color: #008000; text-decoration-color: #008000\">'Event_Description'</span>, <span style=\"color: #008000; text-decoration-color: #008000\">'Event_Name'</span>, <span style=\"color: #008000; text-decoration-color: #008000\">'Location'</span><span style=\"font-weight: bold\">]</span>,\n",
       "                <span style=\"color: #808000; text-decoration-color: #808000\">input_types</span>=<span style=\"font-weight: bold\">{}</span>,\n",
       "                <span style=\"color: #808000; text-decoration-color: #808000\">partial_variables</span>=<span style=\"font-weight: bold\">{}</span>,\n",
       "                <span style=\"color: #808000; text-decoration-color: #808000\">template</span>=<span style=\"color: #008000; text-decoration-color: #008000\">'Plan an event titled {Event_Name}. The event will be about: {Event_Description}. The </span>\n",
       "<span style=\"color: #008000; text-decoration-color: #008000\">event will be held in {Location} on {Date}. Consider the following factors: audience, budget, venue, catering </span>\n",
       "<span style=\"color: #008000; text-decoration-color: #008000\">options, and entertainment. Provide a detailed plan including potential vendors and logistics.'</span>\n",
       "            <span style=\"font-weight: bold\">)</span>,\n",
       "            <span style=\"color: #808000; text-decoration-color: #808000\">additional_kwargs</span>=<span style=\"font-weight: bold\">{}</span>\n",
       "        <span style=\"font-weight: bold\">)</span>\n",
       "    <span style=\"font-weight: bold\">]</span>\n",
       "<span style=\"font-weight: bold\">)</span>\n",
       "</pre>\n"
      ],
      "text/plain": [
       "\u001b[1;35mChatPromptTemplate\u001b[0m\u001b[1m(\u001b[0m\n",
       "    \u001b[33minput_variables\u001b[0m=\u001b[1m[\u001b[0m\u001b[32m'Date'\u001b[0m, \u001b[32m'Event_Description'\u001b[0m, \u001b[32m'Event_Name'\u001b[0m, \u001b[32m'Location'\u001b[0m\u001b[1m]\u001b[0m,\n",
       "    \u001b[33minput_types\u001b[0m=\u001b[1m{\u001b[0m\u001b[1m}\u001b[0m,\n",
       "    \u001b[33mpartial_variables\u001b[0m=\u001b[1m{\u001b[0m\u001b[1m}\u001b[0m,\n",
       "    \u001b[33mmetadata\u001b[0m=\u001b[1m{\u001b[0m\u001b[32m'langfuse_prompt'\u001b[0m: \u001b[1m<\u001b[0m\u001b[1;95mlangfuse.model.ChatPromptClient\u001b[0m\u001b[39m object at \u001b[0m\u001b[1;36m0x105fd1fd0\u001b[0m\u001b[1m>\u001b[0m\u001b[1m}\u001b[0m,\n",
       "    \u001b[33mmessages\u001b[0m=\u001b[1m[\u001b[0m\n",
       "        \u001b[1;35mSystemMessagePromptTemplate\u001b[0m\u001b[1m(\u001b[0m\n",
       "            \u001b[33mprompt\u001b[0m=\u001b[1;35mPromptTemplate\u001b[0m\u001b[1m(\u001b[0m\n",
       "                \u001b[33minput_variables\u001b[0m=\u001b[1m[\u001b[0m\u001b[1m]\u001b[0m,\n",
       "                \u001b[33minput_types\u001b[0m=\u001b[1m{\u001b[0m\u001b[1m}\u001b[0m,\n",
       "                \u001b[33mpartial_variables\u001b[0m=\u001b[1m{\u001b[0m\u001b[1m}\u001b[0m,\n",
       "                \u001b[33mtemplate\u001b[0m=\u001b[32m'You are an senior event planner.'\u001b[0m\n",
       "            \u001b[1m)\u001b[0m,\n",
       "            \u001b[33madditional_kwargs\u001b[0m=\u001b[1m{\u001b[0m\u001b[1m}\u001b[0m\n",
       "        \u001b[1m)\u001b[0m,\n",
       "        \u001b[1;35mHumanMessagePromptTemplate\u001b[0m\u001b[1m(\u001b[0m\n",
       "            \u001b[33mprompt\u001b[0m=\u001b[1;35mPromptTemplate\u001b[0m\u001b[1m(\u001b[0m\n",
       "                \u001b[33minput_variables\u001b[0m=\u001b[1m[\u001b[0m\u001b[32m'Date'\u001b[0m, \u001b[32m'Event_Description'\u001b[0m, \u001b[32m'Event_Name'\u001b[0m, \u001b[32m'Location'\u001b[0m\u001b[1m]\u001b[0m,\n",
       "                \u001b[33minput_types\u001b[0m=\u001b[1m{\u001b[0m\u001b[1m}\u001b[0m,\n",
       "                \u001b[33mpartial_variables\u001b[0m=\u001b[1m{\u001b[0m\u001b[1m}\u001b[0m,\n",
       "                \u001b[33mtemplate\u001b[0m=\u001b[32m'Plan an event titled \u001b[0m\u001b[32m{\u001b[0m\u001b[32mEvent_Name\u001b[0m\u001b[32m}\u001b[0m\u001b[32m. The event will be about: \u001b[0m\u001b[32m{\u001b[0m\u001b[32mEvent_Description\u001b[0m\u001b[32m}\u001b[0m\u001b[32m. The \u001b[0m\n",
       "\u001b[32mevent will be held in \u001b[0m\u001b[32m{\u001b[0m\u001b[32mLocation\u001b[0m\u001b[32m}\u001b[0m\u001b[32m on \u001b[0m\u001b[32m{\u001b[0m\u001b[32mDate\u001b[0m\u001b[32m}\u001b[0m\u001b[32m. Consider the following factors: audience, budget, venue, catering \u001b[0m\n",
       "\u001b[32moptions, and entertainment. Provide a detailed plan including potential vendors and logistics.'\u001b[0m\n",
       "            \u001b[1m)\u001b[0m,\n",
       "            \u001b[33madditional_kwargs\u001b[0m=\u001b[1m{\u001b[0m\u001b[1m}\u001b[0m\n",
       "        \u001b[1m)\u001b[0m\n",
       "    \u001b[1m]\u001b[0m\n",
       "\u001b[1m)\u001b[0m\n"
      ]
     },
     "metadata": {},
     "output_type": "display_data"
    }
   ],
   "source": [
    "rich.print(langchain_prompt_template)"
   ]
  },
  {
   "cell_type": "code",
   "execution_count": 14,
   "metadata": {},
   "outputs": [
    {
     "name": "stdout",
     "output_type": "stream",
     "text": [
      "Prompt model configurations\n",
      "Model: gpt-4o-mini\n",
      "Temperature: 0\n"
     ]
    }
   ],
   "source": [
    "model = langfuse_chat_prompt_template.config[\"model\"]\n",
    "temperature = str(langfuse_chat_prompt_template.config[\"temperature\"])\n",
    "print(f\"Prompt model configurations\\nModel: {model}\\nTemperature: {temperature}\")"
   ]
  },
  {
   "cell_type": "code",
   "execution_count": 15,
   "metadata": {},
   "outputs": [],
   "source": [
    "from langchain_openai import ChatOpenAI\n",
    "\n",
    "llm = ChatOpenAI(model=model, temperature=temperature)\n",
    "chain = langchain_prompt_template | llm"
   ]
  },
  {
   "cell_type": "code",
   "execution_count": 16,
   "metadata": {},
   "outputs": [],
   "source": [
    "example_input = {\n",
    "    \"Event_Name\": \"Wedding\",\n",
    "    \"Event_Description\": \"The wedding of Julia and Alex, a charming couple who share a love for art and nature. This special day will celebrate their journey together with a blend of traditional and contemporary elements, reflecting their unique personalities.\",\n",
    "    \"Location\": \"Central Park, New York City\",\n",
    "    \"Date\": \"June 5, 2024\"\n",
    "}"
   ]
  },
  {
   "cell_type": "markdown",
   "metadata": {},
   "source": [
    "### Set the callbackhandler for track the text generation"
   ]
  },
  {
   "cell_type": "code",
   "execution_count": 30,
   "metadata": {},
   "outputs": [],
   "source": [
    "from langfuse.callback import CallbackHandler\n",
    "langfuse_callback_handler = CallbackHandler(\n",
    "    # if not specified here, it's in .env\n",
    "    trace_name=\"planner_01\",\n",
    "    tags= [\"event-planner\", \"sean\", \"good boy\"]\n",
    ")"
   ]
  },
  {
   "cell_type": "markdown",
   "metadata": {},
   "source": [
    "#### Tests the SDK connection with the server"
   ]
  },
  {
   "cell_type": "code",
   "execution_count": 19,
   "metadata": {},
   "outputs": [
    {
     "data": {
      "text/plain": [
       "True"
      ]
     },
     "execution_count": 19,
     "metadata": {},
     "output_type": "execute_result"
    }
   ],
   "source": [
    "langfuse_callback_handler.auth_check()"
   ]
  },
  {
   "cell_type": "markdown",
   "metadata": {},
   "source": [
    "`run_name` will passed to trace the prompt usage"
   ]
  },
  {
   "cell_type": "code",
   "execution_count": 31,
   "metadata": {},
   "outputs": [
    {
     "name": "stdout",
     "output_type": "stream",
     "text": [
      "### Event Plan: Wedding of Julia and Alex\n",
      "\n",
      "**Event Title:** Wedding of Julia and Alex  \n",
      "**Date:** June 5, 2024  \n",
      "**Location:** Central Park, New York City  \n",
      "**Theme:** A blend of traditional and contemporary elements celebrating art and nature.\n",
      "\n",
      "---\n",
      "\n",
      "### 1. Audience\n",
      "- **Guests:** Approximately 150-200 close family and friends.\n",
      "- **Demographics:** A mix of young adults, families, and older relatives, with a focus on art and nature enthusiasts.\n",
      "\n",
      "### 2. Budget\n",
      "- **Estimated Total Budget:** $50,000\n",
      "  - Venue Permit: $2,000\n",
      "  - Catering: $15,000\n",
      "  - Decor: $10,000\n",
      "  - Entertainment: $5,000\n",
      "  - Photography/Videography: $3,000\n",
      "  - Attire: $5,000\n",
      "  - Invitations: $1,500\n",
      "  - Miscellaneous (transportation, favors, etc.): $8,500\n",
      "\n",
      "### 3. Venue\n",
      "- **Location:** Central Park, specifically the Conservatory Garden or the Great Lawn.\n",
      "- **Permit:** Apply for a wedding permit through the NYC Parks Department (approximately $2,000).\n",
      "- **Logistics:** \n",
      "  - Set up a tent for inclement weather.\n",
      "  - Arrange for seating (chairs, tables) and a designated area for the ceremony and reception.\n",
      "\n",
      "### 4. Catering Options\n",
      "- **Caterer:** Consider local caterers that focus on organic and seasonal ingredients.\n",
      "  - **Vendor Options:**\n",
      "    - **Blue Hill Catering:** Known for farm-to-table cuisine.\n",
      "    - **Catered by Whole Foods:** Offers a variety of organic options.\n",
      "    - **The Green Table:** Focuses on sustainable and locally sourced food.\n",
      "- **Menu Ideas:**\n",
      "  - **Appetizers:** Seasonal vegetable crudités, artisanal cheese platter, mini caprese skewers.\n",
      "  - **Main Course:** Grilled salmon with herb sauce, roasted vegetable risotto, and a vegetarian option (stuffed bell peppers).\n",
      "  - **Dessert:** A wedding cake featuring a floral design, along with a dessert bar with assorted pastries and fruit tarts.\n",
      "- **Beverages:** Signature cocktails inspired by the couple, wine, and a selection of craft beers.\n",
      "\n",
      "### 5. Decor\n",
      "- **Theme:** Incorporate elements of nature and art.\n",
      "- **Decor Ideas:**\n",
      "  - Floral arrangements featuring wildflowers and greenery.\n",
      "  - Art installations or sculptures that reflect the couple's artistic interests.\n",
      "  - String lights and lanterns for a romantic evening ambiance.\n",
      "- **Vendor Options:**\n",
      "  - **Floral Design:** **Bespoke Floral Design** for custom arrangements.\n",
      "  - **Event Rentals:** **Party Rental Ltd.** for tables, chairs, and linens.\n",
      "\n",
      "### 6. Entertainment\n",
      "- **Music:** \n",
      "  - **Ceremony:** A string quartet or acoustic guitar player.\n",
      "  - **Reception:** A live band that can play a mix of contemporary and classic songs.\n",
      "- **Vendor Options:**\n",
      "  - **String Quartet:** **New York String Quartet** for the ceremony.\n",
      "  - **Band:** **The New York City Band** for the reception.\n",
      "- **Additional Entertainment:** Consider hiring a caricature artist or a photo booth to capture fun moments.\n",
      "\n",
      "### 7. Photography/Videography\n",
      "- **Photographer:** Hire a professional who specializes in weddings and has a portfolio that reflects a blend of candid and artistic shots.\n",
      "  - **Vendor Options:**\n",
      "    - **Jasmine Star Photography**\n",
      "    - **Katherine Elizabeth Photography**\n",
      "- **Videographer:** Capture the day with a highlight reel and full-length video.\n",
      "  - **Vendor Options:**\n",
      "    - **Cinematic Wedding Films**\n",
      "    - **Love Stories TV**\n",
      "\n",
      "### 8. Invitations\n",
      "- **Design:** Create custom invitations that reflect the art theme, possibly incorporating watercolor designs or botanical illustrations.\n",
      "- **Vendor Options:**\n",
      "  - **Minted:** For customizable designs.\n",
      "  - **Paperless Post:** For digital invitations.\n",
      "\n",
      "### 9. Logistics\n",
      "- **Transportation:** Arrange for transportation for guests from a central location to Central Park, especially for those who may have difficulty walking.\n",
      "- **Timeline:**\n",
      "  - 2:00 PM: Guest Arrival\n",
      "  - 2:30 PM: Ceremony Begins\n",
      "  - 3:00 PM: Cocktail Hour\n",
      "  - 4:00 PM: Reception Begins\n",
      "  - 6:00 PM: Toasts and Speeches\n",
      "  - 7:00 PM: Dinner Service\n",
      "  - 8:30 PM: Dancing and Entertainment\n",
      "  - 10:00 PM: Send-off\n",
      "\n",
      "### 10. Favors\n",
      "- **Ideas:** Small potted plants or seed packets to reflect the nature theme, or custom art prints that guests can take home.\n",
      "\n",
      "### Conclusion\n",
      "This detailed plan for Julia and Alex's wedding in Central Park combines their love for art and nature while ensuring a memorable experience for all guests. By carefully selecting vendors and managing logistics, the event will reflect their unique personalities and celebrate their journey together.\n"
     ]
    }
   ],
   "source": [
    "# we pass the callback handler to the chain to trace the run in Langfuse\n",
    "response = chain.invoke(input=example_input,\n",
    "                        config={\n",
    "                            \"callbacks\":[langfuse_callback_handler],\n",
    "                            # \"run_name\": \"test_123\",\n",
    "                            # \"tags\": [\"event-planner\", \"sean\", \"good boy\"]\n",
    "                            }\n",
    "                            )\n",
    "# response = chain.invoke(input=example_input)\n",
    "\n",
    "print(response.content)"
   ]
  },
  {
   "cell_type": "code",
   "execution_count": null,
   "metadata": {},
   "outputs": [],
   "source": []
  }
 ],
 "metadata": {
  "kernelspec": {
   "display_name": "langgraph",
   "language": "python",
   "name": "python3"
  },
  "language_info": {
   "codemirror_mode": {
    "name": "ipython",
    "version": 3
   },
   "file_extension": ".py",
   "mimetype": "text/x-python",
   "name": "python",
   "nbconvert_exporter": "python",
   "pygments_lexer": "ipython3",
   "version": "3.12.7"
  }
 },
 "nbformat": 4,
 "nbformat_minor": 2
}
