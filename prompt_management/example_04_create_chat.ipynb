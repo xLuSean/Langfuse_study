{
 "cells": [
  {
   "cell_type": "code",
   "execution_count": 10,
   "metadata": {},
   "outputs": [],
   "source": [
    "from dotenv import load_dotenv\n",
    "load_dotenv()\n",
    "import rich"
   ]
  },
  {
   "cell_type": "code",
   "execution_count": 1,
   "metadata": {},
   "outputs": [],
   "source": [
    "from langfuse import Langfuse\n",
    "langfuse = Langfuse()"
   ]
  },
  {
   "cell_type": "code",
   "execution_count": 3,
   "metadata": {},
   "outputs": [
    {
     "data": {
      "text/plain": [
       "<langfuse.model.ChatPromptClient at 0x1067730e0>"
      ]
     },
     "execution_count": 3,
     "metadata": {},
     "output_type": "execute_result"
    }
   ],
   "source": [
    "langfuse.create_prompt(\n",
    "    name=\"event-planner-chat\",\n",
    "    prompt=[\n",
    "        {\"role\":\"system\", \"content\":\"You are an senior event planner.\"},\n",
    "        {\"role\":\"user\", \"content\": \n",
    "            \"Plan an event titled {{Event_Name}}. The event will be about: {{Event_Description}}. \"\n",
    "            \"The event will be held in {{Location}} on {{Date}}. \"\n",
    "            \"Consider the following factors: audience, budget, venue, catering options, and entertainment. \"\n",
    "            \"Provide a detailed plan including potential vendors and logistics.\",\n",
    "        }\n",
    "    ],\n",
    "    type=\"chat\",\n",
    "    config={\n",
    "        \"model\":\"gpt-4o-mini\",\n",
    "        \"temperature\": 0,\n",
    "    },\n",
    "    labels=[\"production\"]\n",
    ")"
   ]
  },
  {
   "cell_type": "code",
   "execution_count": 31,
   "metadata": {},
   "outputs": [],
   "source": [
    "langfuse_chat_prompt_template = langfuse.get_prompt(\n",
    "    name=\"event-planner-chat\",\n",
    "    type=\"chat\",\n",
    ")"
   ]
  },
  {
   "cell_type": "code",
   "execution_count": 32,
   "metadata": {},
   "outputs": [
    {
     "data": {
      "text/html": [
       "<pre style=\"white-space:pre;overflow-x:auto;line-height:normal;font-family:Menlo,'DejaVu Sans Mono',consolas,'Courier New',monospace\"><span style=\"font-weight: bold\">[</span>\n",
       "    <span style=\"font-weight: bold\">{</span><span style=\"color: #008000; text-decoration-color: #008000\">'role'</span>: <span style=\"color: #008000; text-decoration-color: #008000\">'system'</span>, <span style=\"color: #008000; text-decoration-color: #008000\">'content'</span>: <span style=\"color: #008000; text-decoration-color: #008000\">'You are an senior event planner.'</span><span style=\"font-weight: bold\">}</span>,\n",
       "    <span style=\"font-weight: bold\">{</span>\n",
       "        <span style=\"color: #008000; text-decoration-color: #008000\">'role'</span>: <span style=\"color: #008000; text-decoration-color: #008000\">'user'</span>,\n",
       "        <span style=\"color: #008000; text-decoration-color: #008000\">'content'</span>: <span style=\"color: #008000; text-decoration-color: #008000\">'Plan an event titled {{Event_Name}}. The event will be about: {{Event_Description}}. The event </span>\n",
       "<span style=\"color: #008000; text-decoration-color: #008000\">will be held in {{Location}} on {{Date}}. Consider the following factors: audience, budget, venue, catering </span>\n",
       "<span style=\"color: #008000; text-decoration-color: #008000\">options, and entertainment. Provide a detailed plan including potential vendors and logistics.'</span>\n",
       "    <span style=\"font-weight: bold\">}</span>\n",
       "<span style=\"font-weight: bold\">]</span>\n",
       "</pre>\n"
      ],
      "text/plain": [
       "\u001b[1m[\u001b[0m\n",
       "    \u001b[1m{\u001b[0m\u001b[32m'role'\u001b[0m: \u001b[32m'system'\u001b[0m, \u001b[32m'content'\u001b[0m: \u001b[32m'You are an senior event planner.'\u001b[0m\u001b[1m}\u001b[0m,\n",
       "    \u001b[1m{\u001b[0m\n",
       "        \u001b[32m'role'\u001b[0m: \u001b[32m'user'\u001b[0m,\n",
       "        \u001b[32m'content'\u001b[0m: \u001b[32m'Plan an event titled \u001b[0m\u001b[32m{\u001b[0m\u001b[32m{\u001b[0m\u001b[32mEvent_Name\u001b[0m\u001b[32m}\u001b[0m\u001b[32m}\u001b[0m\u001b[32m. The event will be about: \u001b[0m\u001b[32m{\u001b[0m\u001b[32m{\u001b[0m\u001b[32mEvent_Description\u001b[0m\u001b[32m}\u001b[0m\u001b[32m}\u001b[0m\u001b[32m. The event \u001b[0m\n",
       "\u001b[32mwill be held in \u001b[0m\u001b[32m{\u001b[0m\u001b[32m{\u001b[0m\u001b[32mLocation\u001b[0m\u001b[32m}\u001b[0m\u001b[32m}\u001b[0m\u001b[32m on \u001b[0m\u001b[32m{\u001b[0m\u001b[32m{\u001b[0m\u001b[32mDate\u001b[0m\u001b[32m}\u001b[0m\u001b[32m}\u001b[0m\u001b[32m. Consider the following factors: audience, budget, venue, catering \u001b[0m\n",
       "\u001b[32moptions, and entertainment. Provide a detailed plan including potential vendors and logistics.'\u001b[0m\n",
       "    \u001b[1m}\u001b[0m\n",
       "\u001b[1m]\u001b[0m\n"
      ]
     },
     "metadata": {},
     "output_type": "display_data"
    },
    {
     "data": {
      "text/html": [
       "<pre style=\"white-space:pre;overflow-x:auto;line-height:normal;font-family:Menlo,'DejaVu Sans Mono',consolas,'Courier New',monospace\"><span style=\"font-weight: bold\">{</span><span style=\"color: #008000; text-decoration-color: #008000\">'model'</span>: <span style=\"color: #008000; text-decoration-color: #008000\">'gpt-4o-mini'</span>, <span style=\"color: #008000; text-decoration-color: #008000\">'temperature'</span>: <span style=\"color: #008080; text-decoration-color: #008080; font-weight: bold\">0</span><span style=\"font-weight: bold\">}</span>\n",
       "</pre>\n"
      ],
      "text/plain": [
       "\u001b[1m{\u001b[0m\u001b[32m'model'\u001b[0m: \u001b[32m'gpt-4o-mini'\u001b[0m, \u001b[32m'temperature'\u001b[0m: \u001b[1;36m0\u001b[0m\u001b[1m}\u001b[0m\n"
      ]
     },
     "metadata": {},
     "output_type": "display_data"
    }
   ],
   "source": [
    "rich.print(langfuse_chat_prompt_template.prompt)\n",
    "rich.print(langfuse_chat_prompt_template.config)"
   ]
  },
  {
   "cell_type": "code",
   "execution_count": 14,
   "metadata": {},
   "outputs": [
    {
     "data": {
      "text/plain": [
       "[{'content': 'You are an senior event planner.', 'role': 'system'},\n",
       " {'content': 'Plan an event titled My Birthday Party. The event will be about: A fun party. The event will be held in My house on Saturday. Consider the following factors: audience, budget, venue, catering options, and entertainment. Provide a detailed plan including potential vendors and logistics.',\n",
       "  'role': 'user'}]"
      ]
     },
     "execution_count": 14,
     "metadata": {},
     "output_type": "execute_result"
    }
   ],
   "source": [
    "langfuse_chat_prompt_template.compile(Event_Name=\"My Birthday Party\", Event_Description=\"A fun party\", Location=\"My house\", Date=\"Saturday\")"
   ]
  },
  {
   "cell_type": "code",
   "execution_count": 20,
   "metadata": {},
   "outputs": [
    {
     "name": "stdout",
     "output_type": "stream",
     "text": [
      "[('system', 'You are an senior event planner.'), ('user', 'Plan an event titled {Event_Name}. The event will be about: {Event_Description}. The event will be held in {Location} on {Date}. Consider the following factors: audience, budget, venue, catering options, and entertainment. Provide a detailed plan including potential vendors and logistics.')]\n",
      "<class 'list'>\n"
     ]
    }
   ],
   "source": [
    "langchain_prompt_template = langfuse_chat_prompt_template.get_langchain_prompt()\n",
    "print(langchain_prompt_template)\n",
    "print(type(langchain_prompt_template))"
   ]
  },
  {
   "cell_type": "code",
   "execution_count": 15,
   "metadata": {},
   "outputs": [],
   "source": [
    "from langchain_core.prompts import ChatPromptTemplate"
   ]
  },
  {
   "cell_type": "code",
   "execution_count": 21,
   "metadata": {},
   "outputs": [],
   "source": [
    "langchain_prompt_template = ChatPromptTemplate.from_messages(\n",
    "    messages=langfuse_chat_prompt_template.get_langchain_prompt(),\n",
    "    )"
   ]
  },
  {
   "cell_type": "code",
   "execution_count": 33,
   "metadata": {},
   "outputs": [],
   "source": [
    "langchain_prompt_template.metadata = {\"langfuse_prompt\": langfuse_chat_prompt_template}"
   ]
  },
  {
   "cell_type": "code",
   "execution_count": 34,
   "metadata": {},
   "outputs": [
    {
     "data": {
      "text/plain": [
       "ChatPromptTemplate(input_variables=['Date', 'Event_Description', 'Event_Name', 'Location'], input_types={}, partial_variables={}, metadata={'langfuse_prompt': <langfuse.model.ChatPromptClient object at 0x1050a82f0>}, messages=[SystemMessagePromptTemplate(prompt=PromptTemplate(input_variables=[], input_types={}, partial_variables={}, template='You are an senior event planner.'), additional_kwargs={}), HumanMessagePromptTemplate(prompt=PromptTemplate(input_variables=['Date', 'Event_Description', 'Event_Name', 'Location'], input_types={}, partial_variables={}, template='Plan an event titled {Event_Name}. The event will be about: {Event_Description}. The event will be held in {Location} on {Date}. Consider the following factors: audience, budget, venue, catering options, and entertainment. Provide a detailed plan including potential vendors and logistics.'), additional_kwargs={})])"
      ]
     },
     "execution_count": 34,
     "metadata": {},
     "output_type": "execute_result"
    }
   ],
   "source": [
    "langchain_prompt_template"
   ]
  },
  {
   "cell_type": "code",
   "execution_count": 24,
   "metadata": {},
   "outputs": [
    {
     "name": "stdout",
     "output_type": "stream",
     "text": [
      "Prompt model configurations\n",
      "Model: gpt-4o-mini\n",
      "Temperature: 0\n"
     ]
    }
   ],
   "source": [
    "model = langfuse_chat_prompt_template.config[\"model\"]\n",
    "temperature = str(langfuse_chat_prompt_template.config[\"temperature\"])\n",
    "print(f\"Prompt model configurations\\nModel: {model}\\nTemperature: {temperature}\")"
   ]
  },
  {
   "cell_type": "code",
   "execution_count": 35,
   "metadata": {},
   "outputs": [],
   "source": [
    "from langchain_openai import ChatOpenAI\n",
    "\n",
    "llm = ChatOpenAI(model=model, temperature=temperature)\n",
    "\n",
    "chain = langchain_prompt_template | llm"
   ]
  },
  {
   "cell_type": "code",
   "execution_count": 26,
   "metadata": {},
   "outputs": [],
   "source": [
    "example_input = {\n",
    "    \"Event_Name\": \"Wedding\",\n",
    "    \"Event_Description\": \"The wedding of Julia and Alex, a charming couple who share a love for art and nature. This special day will celebrate their journey together with a blend of traditional and contemporary elements, reflecting their unique personalities.\",\n",
    "    \"Location\": \"Central Park, New York City\",\n",
    "    \"Date\": \"June 5, 2024\"\n",
    "}"
   ]
  },
  {
   "cell_type": "code",
   "execution_count": 27,
   "metadata": {},
   "outputs": [],
   "source": [
    "from langfuse.callback import CallbackHandler\n",
    "langfuse_callback_handler = CallbackHandler()"
   ]
  },
  {
   "cell_type": "code",
   "execution_count": 37,
   "metadata": {},
   "outputs": [
    {
     "name": "stdout",
     "output_type": "stream",
     "text": [
      "### Event Plan: Wedding of Julia and Alex\n",
      "\n",
      "**Event Title:** Wedding of Julia and Alex  \n",
      "**Date:** June 5, 2024  \n",
      "**Location:** Central Park, New York City  \n",
      "**Theme:** A blend of traditional and contemporary elements celebrating art and nature.\n",
      "\n",
      "---\n",
      "\n",
      "### 1. Audience\n",
      "- **Guests:** Approximately 150-200 close family and friends.\n",
      "- **Demographics:** A mix of young adults, families, and older relatives, with a focus on art and nature enthusiasts.\n",
      "\n",
      "### 2. Budget\n",
      "- **Estimated Total Budget:** $50,000\n",
      "  - Venue Permit: $2,000\n",
      "  - Catering: $20,000\n",
      "  - Decor: $10,000\n",
      "  - Entertainment: $5,000\n",
      "  - Photography/Videography: $5,000\n",
      "  - Attire: $5,000\n",
      "  - Miscellaneous (invitations, transportation, etc.): $3,000\n",
      "\n",
      "### 3. Venue\n",
      "- **Location:** Central Park, specifically the Conservatory Garden or the Great Lawn.\n",
      "- **Permit:** Apply for a special event permit through the NYC Parks Department (approximately $2,000).\n",
      "- **Logistics:** \n",
      "  - Set up a designated area for the ceremony and reception.\n",
      "  - Consider a backup plan for inclement weather (e.g., renting a tent).\n",
      "\n",
      "### 4. Catering Options\n",
      "- **Catering Company:** \n",
      "  - **Blue Smoke BBQ** (for a casual yet upscale vibe) or **Catered by Design** (for a more elegant touch).\n",
      "- **Menu Options:**\n",
      "  - **Appetizers:** Artisanal cheese platter, seasonal vegetable crudités, and mini crab cakes.\n",
      "  - **Main Course:** Grilled salmon, herb-roasted chicken, and a vegetarian option (stuffed bell peppers).\n",
      "  - **Dessert:** A tiered wedding cake with floral decorations and a dessert bar featuring seasonal fruits and pastries.\n",
      "- **Beverages:** A selection of wines, craft beers, and signature cocktails inspired by Julia and Alex’s favorite flavors.\n",
      "\n",
      "### 5. Decor\n",
      "- **Theme:** Nature-inspired with artistic touches.\n",
      "- **Decor Elements:**\n",
      "  - Floral arrangements featuring wildflowers and greenery.\n",
      "  - Art installations or sculptures created by local artists.\n",
      "  - Elegant table settings with biodegradable tableware.\n",
      "  - String lights and lanterns for a magical evening ambiance.\n",
      "- **Vendor:** \n",
      "  - **Floral Design:** **Bespoke Floral** for custom arrangements.\n",
      "  - **Rentals:** **Party Rental Ltd.** for tables, chairs, and linens.\n",
      "\n",
      "### 6. Entertainment\n",
      "- **Live Music:** \n",
      "  - A string quartet for the ceremony and a jazz band for the reception.\n",
      "  - **Vendor:** **The New York String Quartet** and **The Jazz Standard** for booking.\n",
      "- **Interactive Element:** \n",
      "  - An art station where guests can create their own mini canvases to take home as favors.\n",
      "- **Photo Booth:** \n",
      "  - A vintage-style photo booth with props related to art and nature.\n",
      "  - **Vendor:** **Snap Booth NYC** for rental.\n",
      "\n",
      "### 7. Photography/Videography\n",
      "- **Photographer:** \n",
      "  - **Jasmine Star Photography** for capturing candid moments and artistic shots.\n",
      "- **Videographer:** \n",
      "  - **Cinematic Weddings** for a highlight reel and full-length video.\n",
      "\n",
      "### 8. Logistics\n",
      "- **Timeline:**\n",
      "  - 2:00 PM: Guest arrival and seating.\n",
      "  - 2:30 PM: Ceremony begins.\n",
      "  - 3:00 PM: Cocktail hour with live music.\n",
      "  - 4:00 PM: Reception starts with dinner service.\n",
      "  - 6:00 PM: Speeches and toasts.\n",
      "  - 7:00 PM: Dancing and entertainment.\n",
      "  - 10:00 PM: Event concludes.\n",
      "  \n",
      "- **Transportation:** \n",
      "  - Arrange for a shuttle service for guests from nearby hotels to Central Park.\n",
      "  \n",
      "- **Invitations:** \n",
      "  - Design and send out invitations that reflect the art and nature theme, possibly using recycled materials.\n",
      "\n",
      "### 9. Miscellaneous\n",
      "- **Attire:** \n",
      "  - Julia in a contemporary lace gown with floral accents; Alex in a tailored suit with a nature-inspired tie.\n",
      "- **Favors:** \n",
      "  - Eco-friendly seed packets or small art prints created by local artists.\n",
      "\n",
      "### Conclusion\n",
      "This wedding plan for Julia and Alex combines their love for art and nature while ensuring a memorable experience for their guests. By carefully selecting vendors and creating a cohesive theme, the event will reflect their unique personalities and celebrate their journey together.\n"
     ]
    }
   ],
   "source": [
    "# we pass the callback handler to the chain to trace the run in Langfuse\n",
    "response = chain.invoke(input=example_input,config={\"callbacks\":[langfuse_callback_handler]})\n",
    "# response = chain.invoke(input=example_input)\n",
    "\n",
    "print(response.content)"
   ]
  },
  {
   "cell_type": "code",
   "execution_count": 30,
   "metadata": {},
   "outputs": [
    {
     "data": {
      "text/plain": [
       "AIMessage(content=\"### Event Plan: Wedding of Julia and Alex\\n\\n**Event Title:** Wedding of Julia and Alex\\n\\n**Date:** June 5, 2024\\n\\n**Location:** Central Park, New York City\\n\\n---\\n\\n### 1. Audience\\n- **Guests:** Approximately 150-200 close family and friends.\\n- **Demographics:** A mix of young adults, families, and older relatives, reflecting Julia and Alex's diverse social circles.\\n\\n### 2. Budget\\n- **Estimated Total Budget:** $50,000\\n  - **Venue Permit:** $2,000\\n  - **Catering:** $20,000\\n  - **Decorations:** $8,000\\n  - **Photography/Videography:** $5,000\\n  - **Entertainment:** $5,000\\n  - **Attire (Bride & Groom):** $5,000\\n  - **Miscellaneous (invitations, transportation, etc.):** $5,000\\n\\n### 3. Venue\\n- **Location:** Central Park, specifically the Conservatory Garden or the Great Lawn.\\n- **Permit:** Apply for a wedding permit through the NYC Parks Department. Ensure to book at least 6 months in advance.\\n- **Logistics:** \\n  - Arrange for seating (chairs/tables) and a tent in case of rain.\\n  - Consider accessibility for elderly guests.\\n\\n### 4. Catering Options\\n- **Catering Company:** \\n  - **Option 1:** *Catered by The Green Table* - Focus on seasonal, locally sourced ingredients.\\n  - **Option 2:** *Blue Smoke* - Southern BBQ with vegetarian options.\\n- **Menu Ideas:**\\n  - **Appetizers:** Caprese skewers, mini crab cakes, and vegetable spring rolls.\\n  - **Main Course:** Grilled salmon, herb-roasted chicken, and a vegan pasta primavera.\\n  - **Dessert:** A tiered wedding cake (flavors: vanilla, chocolate, and red velvet) and a dessert bar with assorted pastries.\\n- **Beverages:** Open bar with wine, beer, and signature cocktails inspired by Julia and Alex.\\n\\n### 5. Decorations\\n- **Theme:** A blend of traditional elegance and contemporary art.\\n- **Decor Elements:**\\n  - Floral arrangements featuring wildflowers and greenery.\\n  - Art installations or sculptures created by local artists.\\n  - String lights and lanterns for a romantic evening ambiance.\\n- **Rental Companies:**\\n  - *Party Rental Ltd.* for tables, chairs, and linens.\\n  - *Bloomingdale’s* for floral arrangements.\\n\\n### 6. Entertainment\\n- **Music:**\\n  - **Ceremony:** String quartet or acoustic guitar for a romantic atmosphere.\\n  - **Reception:** DJ or live band (consider *The New York City Jazz Quartet* for a blend of jazz and contemporary music).\\n- **Activities:**\\n  - Photo booth with props reflecting Julia and Alex's artistic side.\\n  - A live painter to capture the ceremony on canvas.\\n- **Speeches:** Arrange for family and friends to share stories and well-wishes.\\n\\n### 7. Photography/Videography\\n- **Photographer:** *Jasmine Star Photography* - Known for capturing candid moments and artistic shots.\\n- **Videographer:** *Cinematic Weddings* - Specializes in storytelling through video.\\n\\n### 8. Logistics\\n- **Transportation:**\\n  - Arrange shuttle service for guests from a central location (e.g., a hotel) to Central Park.\\n- **Timeline:**\\n  - **2:00 PM:** Guests arrive and are seated.\\n  - **2:30 PM:** Ceremony begins.\\n  - **3:00 PM:** Cocktail hour with appetizers and drinks.\\n  - **4:00 PM:** Reception starts with dinner and speeches.\\n  - **6:00 PM:** First dance followed by open dancing.\\n  - **8:00 PM:** Cake cutting and dessert bar opens.\\n  - **10:00 PM:** Event concludes.\\n\\n### 9. Miscellaneous\\n- **Invitations:** Design custom invitations that reflect the art and nature theme, possibly using recycled materials.\\n- **Wedding Favors:** Small potted plants or seed packets for guests to take home.\\n- **Dress Code:** Semi-formal attire with a touch of artistic flair encouraged.\\n\\n### Conclusion\\nThis wedding plan for Julia and Alex combines their love for art and nature while ensuring a memorable experience for all guests. By carefully selecting vendors and planning logistics, the event will reflect their unique personalities and celebrate their journey together.\", additional_kwargs={'refusal': None}, response_metadata={'token_usage': {'completion_tokens': 926, 'prompt_tokens': 108, 'total_tokens': 1034, 'completion_tokens_details': {'accepted_prediction_tokens': 0, 'audio_tokens': 0, 'reasoning_tokens': 0, 'rejected_prediction_tokens': 0}, 'prompt_tokens_details': {'audio_tokens': 0, 'cached_tokens': 0}}, 'model_name': 'gpt-4o-mini-2024-07-18', 'system_fingerprint': 'fp_06737a9306', 'finish_reason': 'stop', 'logprobs': None}, id='run-87dd7ae9-fc14-4aea-82fd-0bc4c40cc7d4-0', usage_metadata={'input_tokens': 108, 'output_tokens': 926, 'total_tokens': 1034, 'input_token_details': {'audio': 0, 'cache_read': 0}, 'output_token_details': {'audio': 0, 'reasoning': 0}})"
      ]
     },
     "execution_count": 30,
     "metadata": {},
     "output_type": "execute_result"
    }
   ],
   "source": [
    "llm.invoke(\"Plan an event titled Wedding. The event will be about: The wedding of Julia and Alex, a charming couple who share a love for art and nature. This special day will celebrate their journey together with a blend of traditional and contemporary elements, reflecting their unique personalities.. The event will be held in Central Park, New York City on June 5, 2024. Consider the following factors: audience, budget, venue, catering options, and entertainment. Provide a detailed plan including potential vendors and logistics.\")"
   ]
  },
  {
   "cell_type": "code",
   "execution_count": null,
   "metadata": {},
   "outputs": [],
   "source": []
  }
 ],
 "metadata": {
  "kernelspec": {
   "display_name": "langgraph",
   "language": "python",
   "name": "python3"
  },
  "language_info": {
   "codemirror_mode": {
    "name": "ipython",
    "version": 3
   },
   "file_extension": ".py",
   "mimetype": "text/x-python",
   "name": "python",
   "nbconvert_exporter": "python",
   "pygments_lexer": "ipython3",
   "version": "3.12.7"
  }
 },
 "nbformat": 4,
 "nbformat_minor": 2
}
