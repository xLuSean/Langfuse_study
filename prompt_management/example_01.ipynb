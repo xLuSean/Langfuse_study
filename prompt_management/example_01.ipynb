{
 "cells": [
  {
   "cell_type": "code",
   "execution_count": 1,
   "metadata": {},
   "outputs": [
    {
     "data": {
      "text/plain": [
       "True"
      ]
     },
     "execution_count": 1,
     "metadata": {},
     "output_type": "execute_result"
    }
   ],
   "source": [
    "from dotenv import load_dotenv\n",
    "load_dotenv()"
   ]
  },
  {
   "cell_type": "code",
   "execution_count": 4,
   "metadata": {},
   "outputs": [
    {
     "data": {
      "text/plain": [
       "<langfuse.model.TextPromptClient at 0x111fdef90>"
      ]
     },
     "execution_count": 4,
     "metadata": {},
     "output_type": "execute_result"
    }
   ],
   "source": [
    "from langfuse import Langfuse\n",
    "\n",
    "# 初始化 Langfuse 客戶端(用於提示管理)\n",
    "langfuse = Langfuse()\n",
    "\n",
    "langfuse.create_prompt(\n",
    "    name=\"translator_system-prompt\",\n",
    "    prompt=\"你是一位翻譯專家,負責將所有輸入文本翻譯成{{target_language}}。\",\n",
    "    labels=[\"production\"]\n",
    ")"
   ]
  },
  {
   "cell_type": "code",
   "execution_count": 7,
   "metadata": {},
   "outputs": [
    {
     "name": "stdout",
     "output_type": "stream",
     "text": [
      "你是一位翻譯專家,負責將所有輸入文本翻譯成日語。\n"
     ]
    }
   ],
   "source": [
    "# 獲取當前生產版本的提示詞並轉換為 LangChain 可用的格式\n",
    "langfuse_system_prompt = langfuse.get_prompt(\"translator_system-prompt\", version=1)\n",
    "langchain_system_prompt = langfuse_system_prompt.get_langchain_prompt()\n",
    "print(langchain_system_prompt)"
   ]
  },
  {
   "cell_type": "code",
   "execution_count": 8,
   "metadata": {},
   "outputs": [
    {
     "name": "stdout",
     "output_type": "stream",
     "text": [
      "你是一位翻譯專家,負責將所有輸入文本翻譯成{target_language}。\n"
     ]
    }
   ],
   "source": [
    "# 獲取當前生產版本的提示詞並轉換為 LangChain 可用的格式\n",
    "langfuse_system_prompt = langfuse.get_prompt(\"translator_system-prompt\", version=2)\n",
    "langchain_system_prompt = langfuse_system_prompt.get_langchain_prompt()\n",
    "print(langchain_system_prompt)"
   ]
  },
  {
   "cell_type": "code",
   "execution_count": 9,
   "metadata": {},
   "outputs": [
    {
     "name": "stdout",
     "output_type": "stream",
     "text": [
      "你是一位翻譯專家,負責將所有輸入文本翻譯成{target_language}。\n"
     ]
    }
   ],
   "source": [
    "# 獲取當前生產版本的提示詞並轉換為 LangChain 可用的格式\n",
    "langfuse_system_prompt = langfuse.get_prompt(\"translator_system-prompt\")\n",
    "langchain_system_prompt = langfuse_system_prompt.get_langchain_prompt()\n",
    "print(langchain_system_prompt)"
   ]
  },
  {
   "cell_type": "markdown",
   "metadata": {},
   "source": [
    "## Compile"
   ]
  },
  {
   "cell_type": "code",
   "execution_count": 14,
   "metadata": {},
   "outputs": [
    {
     "name": "stdout",
     "output_type": "stream",
     "text": [
      "你是一位翻譯專家,負責將所有輸入文本翻譯成{target_language}。\n"
     ]
    }
   ],
   "source": [
    "langfuse_system_prompt_v2 = langfuse.get_prompt(\"translator_system-prompt\", version=2)\n",
    "langchain_system_prompt_v2 = langfuse_system_prompt_v2.get_langchain_prompt()\n",
    "print(langchain_system_prompt_v2)"
   ]
  },
  {
   "cell_type": "code",
   "execution_count": 17,
   "metadata": {},
   "outputs": [
    {
     "data": {
      "text/plain": [
       "'你是一位翻譯專家,負責將所有輸入文本翻譯成English。'"
      ]
     },
     "execution_count": 17,
     "metadata": {},
     "output_type": "execute_result"
    }
   ],
   "source": [
    "langfuse_system_prompt_v2.compile(target_language=\"English\")"
   ]
  },
  {
   "cell_type": "code",
   "execution_count": null,
   "metadata": {},
   "outputs": [],
   "source": []
  }
 ],
 "metadata": {
  "kernelspec": {
   "display_name": "langgraph",
   "language": "python",
   "name": "python3"
  },
  "language_info": {
   "codemirror_mode": {
    "name": "ipython",
    "version": 3
   },
   "file_extension": ".py",
   "mimetype": "text/x-python",
   "name": "python",
   "nbconvert_exporter": "python",
   "pygments_lexer": "ipython3",
   "version": "3.12.7"
  }
 },
 "nbformat": 4,
 "nbformat_minor": 2
}
