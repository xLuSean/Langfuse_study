{
 "cells": [
  {
   "cell_type": "code",
   "execution_count": 1,
   "metadata": {},
   "outputs": [],
   "source": [
    "from dotenv import load_dotenv\n",
    "load_dotenv()\n",
    "import rich"
   ]
  },
  {
   "cell_type": "code",
   "execution_count": 2,
   "metadata": {},
   "outputs": [],
   "source": [
    "from langfuse import Langfuse\n",
    "langfuse = Langfuse()"
   ]
  },
  {
   "cell_type": "code",
   "execution_count": 3,
   "metadata": {},
   "outputs": [
    {
     "data": {
      "text/plain": [
       "<langfuse.model.TextPromptClient at 0x10646c140>"
      ]
     },
     "execution_count": 3,
     "metadata": {},
     "output_type": "execute_result"
    }
   ],
   "source": [
    "langfuse.create_prompt(\n",
    "    name=\"event-planner\",\n",
    "    prompt=\n",
    "    \"Plan an event titled {{Event_Name}}. The event will be about: {{Event_Description}}. \"\n",
    "    \"The event will be held in {{Location}} on {{Date}}. \"\n",
    "    \"Consider the following factors: audience, budget, venue, catering options, and entertainment. \"\n",
    "    \"Provide a detailed plan including potential vendors and logistics.\",\n",
    "    config={\n",
    "        \"model\":\"gpt-4o-mini\",\n",
    "        \"temperature\": 0,\n",
    "    },\n",
    "    labels=[\"production\"]\n",
    ")"
   ]
  },
  {
   "cell_type": "code",
   "execution_count": 4,
   "metadata": {},
   "outputs": [
    {
     "name": "stdout",
     "output_type": "stream",
     "text": [
      "Plan an event titled {{Event_Name}}. The event will be about: {{Event_Description}}. The event will be held in {{Location}} on {{Date}}. Consider the following factors: audience, budget, venue, catering options, and entertainment. Provide a detailed plan including potential vendors and logistics.\n"
     ]
    }
   ],
   "source": [
    "langfuse_prompt = langfuse.get_prompt(\n",
    "    name=\"event-planner\",\n",
    "    label=\"production\",\n",
    "    cache_ttl_seconds=30, # default is 60\n",
    "    fallback=\"I'm sorry, I'm not sure what you're asking for. Could you please provide more details?\", # default prompt if no cache and fetch is failed\n",
    "    max_retries= 2 # default is 2(s), max is 4(s), max delay is 10(s)\n",
    "    )\n",
    "print(langfuse_prompt.prompt)"
   ]
  },
  {
   "cell_type": "code",
   "execution_count": 5,
   "metadata": {},
   "outputs": [
    {
     "name": "stdout",
     "output_type": "stream",
     "text": [
      "{'model': 'gpt-4o-mini', 'temperature': 0}\n",
      "3\n"
     ]
    }
   ],
   "source": [
    "print(langfuse_prompt.config)\n",
    "print(langfuse_prompt.version)"
   ]
  },
  {
   "cell_type": "markdown",
   "metadata": {},
   "source": [
    "##### Convert to LangChain format"
   ]
  },
  {
   "cell_type": "code",
   "execution_count": 6,
   "metadata": {},
   "outputs": [
    {
     "name": "stdout",
     "output_type": "stream",
     "text": [
      "Plan an event titled {Event_Name}. The event will be about: {Event_Description}. The event will be held in {Location} on {Date}. Consider the following factors: audience, budget, venue, catering options, and entertainment. Provide a detailed plan including potential vendors and logistics.\n"
     ]
    }
   ],
   "source": [
    "langchain_prompt_template = langfuse_prompt.get_langchain_prompt()\n",
    "print(langchain_prompt_template)"
   ]
  },
  {
   "cell_type": "markdown",
   "metadata": {},
   "source": [
    "##### Compile"
   ]
  },
  {
   "cell_type": "code",
   "execution_count": 7,
   "metadata": {},
   "outputs": [
    {
     "data": {
      "text/plain": [
       "'Plan an event titled My Birthday Party. The event will be about: A fun party. The event will be held in My house on Saturday. Consider the following factors: audience, budget, venue, catering options, and entertainment. Provide a detailed plan including potential vendors and logistics.'"
      ]
     },
     "execution_count": 7,
     "metadata": {},
     "output_type": "execute_result"
    }
   ],
   "source": [
    "langfuse_prompt.compile(Event_Name=\"My Birthday Party\", Event_Description=\"A fun party\", Location=\"My house\", Date=\"Saturday\")"
   ]
  },
  {
   "cell_type": "markdown",
   "metadata": {},
   "source": [
    "### Transform into Langchain PromptTemplate"
   ]
  },
  {
   "cell_type": "code",
   "execution_count": 21,
   "metadata": {},
   "outputs": [],
   "source": [
    "from langchain_core.prompts import ChatPromptTemplate\n",
    "\n",
    "langchain_prompt = ChatPromptTemplate.from_template(\n",
    "    template=langfuse_prompt.get_langchain_prompt(),\n",
    "    metadata={\"langfuse_prompt\": langfuse_prompt}\n",
    ")"
   ]
  },
  {
   "cell_type": "code",
   "execution_count": 20,
   "metadata": {},
   "outputs": [
    {
     "data": {
      "text/html": [
       "<pre style=\"white-space:pre;overflow-x:auto;line-height:normal;font-family:Menlo,'DejaVu Sans Mono',consolas,'Courier New',monospace\"><span style=\"color: #800080; text-decoration-color: #800080; font-weight: bold\">ChatPromptTemplate</span><span style=\"font-weight: bold\">(</span>\n",
       "    <span style=\"color: #808000; text-decoration-color: #808000\">input_variables</span>=<span style=\"font-weight: bold\">[</span><span style=\"color: #008000; text-decoration-color: #008000\">'Date'</span>, <span style=\"color: #008000; text-decoration-color: #008000\">'Event_Description'</span>, <span style=\"color: #008000; text-decoration-color: #008000\">'Event_Name'</span>, <span style=\"color: #008000; text-decoration-color: #008000\">'Location'</span><span style=\"font-weight: bold\">]</span>,\n",
       "    <span style=\"color: #808000; text-decoration-color: #808000\">input_types</span>=<span style=\"font-weight: bold\">{}</span>,\n",
       "    <span style=\"color: #808000; text-decoration-color: #808000\">partial_variables</span>=<span style=\"font-weight: bold\">{}</span>,\n",
       "    <span style=\"color: #808000; text-decoration-color: #808000\">messages</span>=<span style=\"font-weight: bold\">[</span>\n",
       "        <span style=\"color: #800080; text-decoration-color: #800080; font-weight: bold\">HumanMessagePromptTemplate</span><span style=\"font-weight: bold\">(</span>\n",
       "            <span style=\"color: #808000; text-decoration-color: #808000\">prompt</span>=<span style=\"color: #800080; text-decoration-color: #800080; font-weight: bold\">PromptTemplate</span><span style=\"font-weight: bold\">(</span>\n",
       "                <span style=\"color: #808000; text-decoration-color: #808000\">input_variables</span>=<span style=\"font-weight: bold\">[</span><span style=\"color: #008000; text-decoration-color: #008000\">'Date'</span>, <span style=\"color: #008000; text-decoration-color: #008000\">'Event_Description'</span>, <span style=\"color: #008000; text-decoration-color: #008000\">'Event_Name'</span>, <span style=\"color: #008000; text-decoration-color: #008000\">'Location'</span><span style=\"font-weight: bold\">]</span>,\n",
       "                <span style=\"color: #808000; text-decoration-color: #808000\">input_types</span>=<span style=\"font-weight: bold\">{}</span>,\n",
       "                <span style=\"color: #808000; text-decoration-color: #808000\">partial_variables</span>=<span style=\"font-weight: bold\">{}</span>,\n",
       "                <span style=\"color: #808000; text-decoration-color: #808000\">metadata</span>=<span style=\"font-weight: bold\">{</span><span style=\"color: #008000; text-decoration-color: #008000\">'langfuse_prompt'</span>: <span style=\"font-weight: bold\">&lt;</span><span style=\"color: #ff00ff; text-decoration-color: #ff00ff; font-weight: bold\">langfuse.model.TextPromptClient</span><span style=\"color: #000000; text-decoration-color: #000000\"> object at </span><span style=\"color: #008080; text-decoration-color: #008080; font-weight: bold\">0x1065dc1a0</span><span style=\"font-weight: bold\">&gt;}</span>,\n",
       "                <span style=\"color: #808000; text-decoration-color: #808000\">template</span>=<span style=\"color: #008000; text-decoration-color: #008000\">'Plan an event titled {Event_Name}. The event will be about: {Event_Description}. The </span>\n",
       "<span style=\"color: #008000; text-decoration-color: #008000\">event will be held in {Location} on {Date}. Consider the following factors: audience, budget, venue, catering </span>\n",
       "<span style=\"color: #008000; text-decoration-color: #008000\">options, and entertainment. Provide a detailed plan including potential vendors and logistics.'</span>\n",
       "            <span style=\"font-weight: bold\">)</span>,\n",
       "            <span style=\"color: #808000; text-decoration-color: #808000\">additional_kwargs</span>=<span style=\"font-weight: bold\">{}</span>\n",
       "        <span style=\"font-weight: bold\">)</span>\n",
       "    <span style=\"font-weight: bold\">]</span>\n",
       "<span style=\"font-weight: bold\">)</span>\n",
       "</pre>\n"
      ],
      "text/plain": [
       "\u001b[1;35mChatPromptTemplate\u001b[0m\u001b[1m(\u001b[0m\n",
       "    \u001b[33minput_variables\u001b[0m=\u001b[1m[\u001b[0m\u001b[32m'Date'\u001b[0m, \u001b[32m'Event_Description'\u001b[0m, \u001b[32m'Event_Name'\u001b[0m, \u001b[32m'Location'\u001b[0m\u001b[1m]\u001b[0m,\n",
       "    \u001b[33minput_types\u001b[0m=\u001b[1m{\u001b[0m\u001b[1m}\u001b[0m,\n",
       "    \u001b[33mpartial_variables\u001b[0m=\u001b[1m{\u001b[0m\u001b[1m}\u001b[0m,\n",
       "    \u001b[33mmessages\u001b[0m=\u001b[1m[\u001b[0m\n",
       "        \u001b[1;35mHumanMessagePromptTemplate\u001b[0m\u001b[1m(\u001b[0m\n",
       "            \u001b[33mprompt\u001b[0m=\u001b[1;35mPromptTemplate\u001b[0m\u001b[1m(\u001b[0m\n",
       "                \u001b[33minput_variables\u001b[0m=\u001b[1m[\u001b[0m\u001b[32m'Date'\u001b[0m, \u001b[32m'Event_Description'\u001b[0m, \u001b[32m'Event_Name'\u001b[0m, \u001b[32m'Location'\u001b[0m\u001b[1m]\u001b[0m,\n",
       "                \u001b[33minput_types\u001b[0m=\u001b[1m{\u001b[0m\u001b[1m}\u001b[0m,\n",
       "                \u001b[33mpartial_variables\u001b[0m=\u001b[1m{\u001b[0m\u001b[1m}\u001b[0m,\n",
       "                \u001b[33mmetadata\u001b[0m=\u001b[1m{\u001b[0m\u001b[32m'langfuse_prompt'\u001b[0m: \u001b[1m<\u001b[0m\u001b[1;95mlangfuse.model.TextPromptClient\u001b[0m\u001b[39m object at \u001b[0m\u001b[1;36m0x1065dc1a0\u001b[0m\u001b[1m>\u001b[0m\u001b[1m}\u001b[0m,\n",
       "                \u001b[33mtemplate\u001b[0m=\u001b[32m'Plan an event titled \u001b[0m\u001b[32m{\u001b[0m\u001b[32mEvent_Name\u001b[0m\u001b[32m}\u001b[0m\u001b[32m. The event will be about: \u001b[0m\u001b[32m{\u001b[0m\u001b[32mEvent_Description\u001b[0m\u001b[32m}\u001b[0m\u001b[32m. The \u001b[0m\n",
       "\u001b[32mevent will be held in \u001b[0m\u001b[32m{\u001b[0m\u001b[32mLocation\u001b[0m\u001b[32m}\u001b[0m\u001b[32m on \u001b[0m\u001b[32m{\u001b[0m\u001b[32mDate\u001b[0m\u001b[32m}\u001b[0m\u001b[32m. Consider the following factors: audience, budget, venue, catering \u001b[0m\n",
       "\u001b[32moptions, and entertainment. Provide a detailed plan including potential vendors and logistics.'\u001b[0m\n",
       "            \u001b[1m)\u001b[0m,\n",
       "            \u001b[33madditional_kwargs\u001b[0m=\u001b[1m{\u001b[0m\u001b[1m}\u001b[0m\n",
       "        \u001b[1m)\u001b[0m\n",
       "    \u001b[1m]\u001b[0m\n",
       "\u001b[1m)\u001b[0m\n"
      ]
     },
     "metadata": {},
     "output_type": "display_data"
    }
   ],
   "source": [
    "rich.print(langchain_prompt)"
   ]
  },
  {
   "cell_type": "code",
   "execution_count": 10,
   "metadata": {},
   "outputs": [
    {
     "name": "stdout",
     "output_type": "stream",
     "text": [
      "Prompt model configurations\n",
      "Model: gpt-4o-mini\n",
      "Temperature: 0\n"
     ]
    }
   ],
   "source": [
    "model = langfuse_prompt.config[\"model\"]\n",
    "temperature = str(langfuse_prompt.config[\"temperature\"])\n",
    "print(f\"Prompt model configurations\\nModel: {model}\\nTemperature: {temperature}\")"
   ]
  },
  {
   "cell_type": "code",
   "execution_count": 11,
   "metadata": {},
   "outputs": [],
   "source": [
    "from langchain_openai import ChatOpenAI\n",
    "\n",
    "llm = ChatOpenAI(model=model, temperature=temperature)\n",
    "\n",
    "chain = langchain_prompt | llm"
   ]
  },
  {
   "cell_type": "code",
   "execution_count": 12,
   "metadata": {},
   "outputs": [],
   "source": [
    "example_input = {\n",
    "    \"Event_Name\": \"Wedding\",\n",
    "    \"Event_Description\": \"The wedding of Julia and Alex, a charming couple who share a love for art and nature. This special day will celebrate their journey together with a blend of traditional and contemporary elements, reflecting their unique personalities.\",\n",
    "    \"Location\": \"Central Park, New York City\",\n",
    "    \"Date\": \"June 5, 2024\"\n",
    "}"
   ]
  },
  {
   "cell_type": "code",
   "execution_count": 13,
   "metadata": {},
   "outputs": [],
   "source": [
    "from langfuse.callback import CallbackHandler\n",
    "langfuse_callback_handler = CallbackHandler()"
   ]
  },
  {
   "cell_type": "code",
   "execution_count": 14,
   "metadata": {},
   "outputs": [
    {
     "name": "stdout",
     "output_type": "stream",
     "text": [
      "### Event Plan: Wedding of Julia and Alex\n",
      "\n",
      "**Event Title:** Wedding of Julia and Alex\n",
      "\n",
      "**Date:** June 5, 2024\n",
      "\n",
      "**Location:** Central Park, New York City\n",
      "\n",
      "---\n",
      "\n",
      "### 1. Event Overview\n",
      "\n",
      "**Theme:** A blend of traditional and contemporary elements, celebrating art and nature.\n",
      "\n",
      "**Audience:** Approximately 150 guests, including family, friends, and close colleagues.\n",
      "\n",
      "**Budget:** Estimated budget of $50,000\n",
      "\n",
      "---\n",
      "\n",
      "### 2. Venue\n",
      "\n",
      "**Location:** Central Park, New York City\n",
      "\n",
      "**Specific Area:** The Conservatory Garden or the Great Lawn (depending on availability and guest count)\n",
      "\n",
      "**Logistics:**\n",
      "- **Permits:** Apply for a special event permit through the NYC Parks Department.\n",
      "- **Accessibility:** Ensure the venue is accessible for all guests, including those with mobility issues.\n",
      "- **Restroom Facilities:** Arrange for portable restrooms if necessary.\n",
      "\n",
      "---\n",
      "\n",
      "### 3. Catering Options\n",
      "\n",
      "**Catering Style:** Buffet with a mix of traditional and contemporary dishes, including vegetarian and vegan options.\n",
      "\n",
      "**Potential Vendors:**\n",
      "- **Caterer:** \n",
      "  - **Culinary Concepts Catering** - Known for their creative menus and use of fresh, local ingredients.\n",
      "  - **Blue Smoke** - Offers a blend of Southern BBQ and contemporary American cuisine.\n",
      "\n",
      "**Menu Ideas:**\n",
      "- **Appetizers:** Caprese skewers, mini quiches, and vegetable spring rolls.\n",
      "- **Main Courses:** Grilled salmon, herb-roasted chicken, and a vegan mushroom risotto.\n",
      "- **Sides:** Seasonal roasted vegetables, quinoa salad, and garlic mashed potatoes.\n",
      "- **Dessert:** A tiered wedding cake (flavors: vanilla, chocolate, and red velvet) and a dessert bar with assorted pastries.\n",
      "\n",
      "**Beverages:**\n",
      "- Open bar with wine, beer, and signature cocktails.\n",
      "- Non-alcoholic options: Sparkling water, lemonade, and iced tea.\n",
      "\n",
      "---\n",
      "\n",
      "### 4. Entertainment\n",
      "\n",
      "**Music:**\n",
      "- **Ceremony:** String quartet for a romantic atmosphere.\n",
      "- **Reception:** DJ or live band (consider a jazz band or acoustic duo) to create a lively ambiance.\n",
      "\n",
      "**Potential Vendors:**\n",
      "- **DJ:** \n",
      "  - **DJ Mike B** - Known for his ability to blend various genres and keep the dance floor lively.\n",
      "- **Live Band:** \n",
      "  - **The New York Jazz Quartet** - Offers a sophisticated touch with a mix of classic and contemporary tunes.\n",
      "\n",
      "**Additional Entertainment:**\n",
      "- **Photo Booth:** A themed photo booth with props reflecting Julia and Alex's love for art and nature.\n",
      "- **Live Art:** Hire a local artist to create a live painting during the ceremony or reception, capturing the essence of the day.\n",
      "\n",
      "---\n",
      "\n",
      "### 5. Decor\n",
      "\n",
      "**Theme Elements:**\n",
      "- Floral arrangements featuring wildflowers and greenery to reflect the natural setting.\n",
      "- Art-inspired centerpieces, such as small sculptures or painted canvases.\n",
      "- String lights and lanterns to create a warm, inviting atmosphere as the sun sets.\n",
      "\n",
      "**Potential Vendors:**\n",
      "- **Florist:** \n",
      "  - **Flora Design** - Specializes in unique floral arrangements that blend with the environment.\n",
      "- **Event Decor:** \n",
      "  - **Eventure** - Offers rental services for tables, chairs, linens, and decorative items.\n",
      "\n",
      "---\n",
      "\n",
      "### 6. Logistics\n",
      "\n",
      "**Timeline:**\n",
      "- **12:00 PM:** Vendor setup begins.\n",
      "- **2:00 PM:** Guests arrive; pre-ceremony music starts.\n",
      "- **2:30 PM:** Ceremony begins.\n",
      "- **3:00 PM:** Cocktail hour with appetizers and drinks.\n",
      "- **4:00 PM:** Reception begins with dinner service.\n",
      "- **5:30 PM:** Speeches and toasts.\n",
      "- **6:00 PM:** First dance followed by open dancing.\n",
      "- **8:00 PM:** Cake cutting.\n",
      "- **10:00 PM:** Event concludes.\n",
      "\n",
      "**Transportation:**\n",
      "- Arrange for shuttle services for guests from nearby hotels to the venue.\n",
      "- Provide parking information for guests driving to the event.\n",
      "\n",
      "---\n",
      "\n",
      "### 7. Additional Considerations\n",
      "\n",
      "- **Weather Contingency:** Have a backup plan in case of rain, such as renting a tent or securing an indoor venue nearby.\n",
      "- **Photography:** Hire a professional photographer and videographer to capture the day. Potential vendors include:\n",
      "  - **Lindsay Adler Photography** - Known for her artistic style and ability to capture candid moments.\n",
      "  - **Cinematic Wedding Films** - Offers a documentary-style approach to wedding videography.\n",
      "\n",
      "- **Guest Accommodations:** Provide a list of nearby hotels for out-of-town guests, possibly securing a block of rooms at a discounted rate.\n",
      "\n",
      "---\n",
      "\n",
      "### Conclusion\n",
      "\n",
      "This detailed plan for Julia and Alex's wedding in Central Park combines their love for art and nature with a blend of traditional and contemporary elements. By carefully selecting vendors and logistics, the event promises to be a memorable celebration of their journey together.\n"
     ]
    }
   ],
   "source": [
    "# we pass the callback handler to the chain to trace the run in Langfuse\n",
    "response = chain.invoke(input=example_input,config={\"callbacks\":[langfuse_callback_handler]})\n",
    " \n",
    "print(response.content)"
   ]
  },
  {
   "cell_type": "code",
   "execution_count": null,
   "metadata": {},
   "outputs": [],
   "source": []
  }
 ],
 "metadata": {
  "kernelspec": {
   "display_name": "langgraph",
   "language": "python",
   "name": "python3"
  },
  "language_info": {
   "codemirror_mode": {
    "name": "ipython",
    "version": 3
   },
   "file_extension": ".py",
   "mimetype": "text/x-python",
   "name": "python",
   "nbconvert_exporter": "python",
   "pygments_lexer": "ipython3",
   "version": "3.12.7"
  }
 },
 "nbformat": 4,
 "nbformat_minor": 2
}
