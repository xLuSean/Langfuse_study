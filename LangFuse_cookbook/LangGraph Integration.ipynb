{
 "cells": [
  {
   "cell_type": "markdown",
   "metadata": {},
   "source": [
    "# [Cookbook: LangGraph Integration](https://langfuse.com/docs/integrations/langchain/example-python-langgraph)"
   ]
  },
  {
   "cell_type": "code",
   "execution_count": 2,
   "metadata": {},
   "outputs": [
    {
     "data": {
      "text/plain": [
       "True"
      ]
     },
     "execution_count": 2,
     "metadata": {},
     "output_type": "execute_result"
    }
   ],
   "source": [
    "from dotenv import load_dotenv\n",
    "load_dotenv()"
   ]
  },
  {
   "cell_type": "markdown",
   "metadata": {},
   "source": [
    "### Create Agent"
   ]
  },
  {
   "cell_type": "code",
   "execution_count": 3,
   "metadata": {},
   "outputs": [],
   "source": [
    "from typing import Annotated\n",
    " \n",
    "from langchain_openai import ChatOpenAI\n",
    "from langchain_core.messages import HumanMessage\n",
    "from typing_extensions import TypedDict\n",
    " \n",
    "from langgraph.graph import StateGraph\n",
    "from langgraph.graph.message import add_messages\n",
    " \n",
    "class State(TypedDict):\n",
    "    # Messages have the type \"list\". The `add_messages` function in the annotation defines how this state key should be updated\n",
    "    # (in this case, it appends messages to the list, rather than overwriting them)\n",
    "    messages: Annotated[list, add_messages]\n",
    " \n",
    "graph_builder = StateGraph(State)\n",
    " \n",
    "llm = ChatOpenAI(model = \"gpt-4o\", temperature = 0.2)\n",
    " \n",
    "# The chatbot node function takes the current State as input and returns an updated messages list. This is the basic pattern for all LangGraph node functions.\n",
    "def chatbot(state: State):\n",
    "    return {\"messages\": [llm.invoke(state[\"messages\"])]}\n",
    " \n",
    "# Add a \"chatbot\" node. Nodes represent units of work. They are typically regular python functions.\n",
    "graph_builder.add_node(\"chatbot\", chatbot)\n",
    " \n",
    "# Add an entry point. This tells our graph where to start its work each time we run it.\n",
    "graph_builder.set_entry_point(\"chatbot\")\n",
    " \n",
    "# Set a finish point. This instructs the graph \"any time this node is run, you can exit.\"\n",
    "graph_builder.set_finish_point(\"chatbot\")\n",
    " \n",
    "# To be able to run our graph, call \"compile()\" on the graph builder. This creates a \"CompiledGraph\" we can use invoke on our state.\n",
    "graph = graph_builder.compile()"
   ]
  },
  {
   "cell_type": "markdown",
   "metadata": {},
   "source": [
    "### Add Langfuse as callback to the invocation"
   ]
  },
  {
   "cell_type": "code",
   "execution_count": 4,
   "metadata": {},
   "outputs": [
    {
     "name": "stdout",
     "output_type": "stream",
     "text": [
      "{'chatbot': {'messages': [AIMessage(content='Langfuse is a platform designed to help developers and companies monitor, debug, and improve their AI applications, particularly those that involve natural language processing (NLP) and large language models (LLMs). It provides tools for tracking the performance of AI models, analyzing user interactions, and identifying areas for improvement. By offering insights into how AI models are being used and where they might be falling short, Langfuse aims to enhance the reliability and effectiveness of AI-driven applications.', additional_kwargs={'refusal': None}, response_metadata={'token_usage': {'completion_tokens': 96, 'prompt_tokens': 13, 'total_tokens': 109, 'completion_tokens_details': {'accepted_prediction_tokens': 0, 'audio_tokens': 0, 'reasoning_tokens': 0, 'rejected_prediction_tokens': 0}, 'prompt_tokens_details': {'audio_tokens': 0, 'cached_tokens': 0}}, 'model_name': 'gpt-4o-2024-08-06', 'system_fingerprint': 'fp_eb9dce56a8', 'finish_reason': 'stop', 'logprobs': None}, id='run-cdc05d7e-f60a-48f9-99ae-c73e1c6cc8a2-0', usage_metadata={'input_tokens': 13, 'output_tokens': 96, 'total_tokens': 109, 'input_token_details': {'audio': 0, 'cache_read': 0}, 'output_token_details': {'audio': 0, 'reasoning': 0}})]}}\n"
     ]
    }
   ],
   "source": [
    "from langfuse.callback import CallbackHandler\n",
    " \n",
    "# Initialize Langfuse CallbackHandler for Langchain (tracing)\n",
    "langfuse_handler = CallbackHandler()\n",
    " \n",
    "for s in graph.stream({\"messages\": [HumanMessage(content = \"What is Langfuse?\")]},\n",
    "                      config={\"callbacks\": [langfuse_handler]}):\n",
    "    print(s)"
   ]
  },
  {
   "cell_type": "markdown",
   "metadata": {},
   "source": [
    "### Use Langfuse with LangGraph Server"
   ]
  },
  {
   "cell_type": "code",
   "execution_count": 7,
   "metadata": {},
   "outputs": [],
   "source": [
    "from typing import Annotated\n",
    " \n",
    "from langchain_openai import ChatOpenAI\n",
    "from typing_extensions import TypedDict\n",
    " \n",
    "from langgraph.graph import StateGraph\n",
    "from langgraph.graph.message import add_messages\n",
    " \n",
    "from langfuse.callback import CallbackHandler\n",
    " \n",
    "class State(TypedDict):\n",
    "  messages: Annotated[list, add_messages]\n",
    " \n",
    "graph_builder = StateGraph(State)\n",
    " \n",
    "llm = ChatOpenAI(model = \"gpt-4o\", temperature = 0.2)\n",
    " \n",
    "def chatbot(state: State):\n",
    "  return {\"messages\": [llm.invoke(state[\"messages\"])]}\n",
    " \n",
    "graph_builder.add_node(\"chatbot\", chatbot)\n",
    "graph_builder.set_entry_point(\"chatbot\")\n",
    "graph_builder.set_finish_point(\"chatbot\")\n",
    " \n",
    "# Initialize Langfuse CallbackHandler for Langchain (tracing)\n",
    "langfuse_handler = CallbackHandler()\n",
    " \n",
    "# Call \"with_config\" from the compiled graph.\n",
    "# It returns a \"CompiledGraph\", similar to \"compile\", but with callbacks included.\n",
    "# This enables automatic graph tracing without needing to add callbacks manually every time.\n",
    "graph = graph_builder.compile().with_config({\"callbacks\": [langfuse_handler], \"run_name\": \"chatbot_202503\"})"
   ]
  },
  {
   "cell_type": "code",
   "execution_count": 8,
   "metadata": {},
   "outputs": [
    {
     "data": {
      "text/plain": [
       "{'messages': [HumanMessage(content='What is ALH840001?', additional_kwargs={}, response_metadata={}, id='fb87741a-4d46-4128-a401-1a0ffd75336d'),\n",
       "  AIMessage(content='ALH84001 is a meteorite that was discovered in the Allan Hills region of Antarctica in 1984. It is a part of a group of meteorites known as SNC meteorites, which are believed to have originated from Mars. ALH84001 gained significant attention in 1996 when a team of scientists led by NASA announced that they had found possible evidence of ancient microbial life within the meteorite. This evidence included structures that resembled fossilized bacteria, as well as certain mineral and chemical features that could be associated with biological activity.\\n\\nThe claim sparked widespread interest and debate within the scientific community and the public. However, subsequent research has provided alternative, non-biological explanations for the features observed in ALH84001, and the consensus remains that there is no definitive evidence of past life on Mars from this meteorite. Nonetheless, ALH84001 continues to be an important subject of study in the field of astrobiology and planetary science.', additional_kwargs={'refusal': None}, response_metadata={'token_usage': {'completion_tokens': 193, 'prompt_tokens': 14, 'total_tokens': 207, 'completion_tokens_details': {'accepted_prediction_tokens': 0, 'audio_tokens': 0, 'reasoning_tokens': 0, 'rejected_prediction_tokens': 0}, 'prompt_tokens_details': {'audio_tokens': 0, 'cached_tokens': 0}}, 'model_name': 'gpt-4o-2024-08-06', 'system_fingerprint': 'fp_eb9dce56a8', 'finish_reason': 'stop', 'logprobs': None}, id='run-20fe15cb-35f0-45e3-9f83-62b1f581a933-0', usage_metadata={'input_tokens': 14, 'output_tokens': 193, 'total_tokens': 207, 'input_token_details': {'audio': 0, 'cache_read': 0}, 'output_token_details': {'audio': 0, 'reasoning': 0}})]}"
      ]
     },
     "execution_count": 8,
     "metadata": {},
     "output_type": "execute_result"
    }
   ],
   "source": [
    "graph.invoke({\"messages\": [HumanMessage(content = \"What is ALH840001?\")]})"
   ]
  },
  {
   "cell_type": "markdown",
   "metadata": {},
   "source": [
    "## Example 2: Multi agent application with LangGraph"
   ]
  },
  {
   "cell_type": "code",
   "execution_count": 9,
   "metadata": {},
   "outputs": [],
   "source": [
    "from typing import Annotated\n",
    " \n",
    "from langchain_community.tools import WikipediaQueryRun\n",
    "from langchain_community.utilities import WikipediaAPIWrapper\n",
    "from datetime import datetime\n",
    "from langchain.tools import Tool\n",
    " \n",
    "# Define a tools that searches Wikipedia\n",
    "wikipedia_tool = WikipediaQueryRun(api_wrapper=WikipediaAPIWrapper())\n",
    " \n",
    "# Define a new tool that returns the current datetime\n",
    "datetime_tool = Tool(\n",
    "    name=\"Datetime\",\n",
    "    func = lambda x: datetime.now().isoformat(),\n",
    "    description=\"Returns the current datetime\",\n",
    ")"
   ]
  },
  {
   "cell_type": "code",
   "execution_count": 10,
   "metadata": {},
   "outputs": [],
   "source": [
    "from langchain.agents import AgentExecutor, create_openai_tools_agent\n",
    "from langchain.prompts import ChatPromptTemplate, MessagesPlaceholder\n",
    "from langchain_core.messages import BaseMessage, HumanMessage\n",
    "from langchain_openai import ChatOpenAI\n",
    "from langchain.chains.base import Chain"
   ]
  },
  {
   "cell_type": "code",
   "execution_count": 11,
   "metadata": {},
   "outputs": [],
   "source": [
    "def create_agent(llm: ChatOpenAI, system_prompt: str, tools: list) -> Chain:\n",
    "    prompt = ChatPromptTemplate.from_messages(\n",
    "        [\n",
    "            (\"system\", system_prompt),\n",
    "            MessagesPlaceholder(variable_name=\"messages\"),\n",
    "            MessagesPlaceholder(variable_name=\"agent_scratchpad\"),\n",
    "        ]\n",
    "    )\n",
    "\n",
    "    agent = create_openai_tools_agent(llm, tools, prompt)\n",
    "    executor = AgentExecutor(agent=agent, tools=tools)\n",
    "    return executor"
   ]
  },
  {
   "cell_type": "code",
   "execution_count": 12,
   "metadata": {},
   "outputs": [],
   "source": [
    "def agent_node(state, agent: Chain, name):\n",
    "    result = agent.invoke(state)\n",
    "    return {\"messages\": [HumanMessage(content=result[\"output\"], name=name)]} # 把 agent 的输出作为人类消息返回"
   ]
  },
  {
   "cell_type": "code",
   "execution_count": 13,
   "metadata": {},
   "outputs": [],
   "source": [
    "from langchain_core.output_parsers import JsonOutputParser\n",
    "from langchain_core.prompts import ChatPromptTemplate, MessagesPlaceholder\n",
    "from pydantic import BaseModel, Field\n",
    "from typing import Literal"
   ]
  },
  {
   "cell_type": "code",
   "execution_count": 14,
   "metadata": {},
   "outputs": [],
   "source": [
    "members = [\"Researcher\", \"CurrentTime\"]\n",
    "\n",
    "system_prompt = (\n",
    "    \"You are a supervisor tasked with managing a conversation between the\"\n",
    "    \" following workers:  {members}. Given the following user request,\"\n",
    "    \" respond with the worker to act next. Each worker will perform a\"\n",
    "    \" task and respond with their results and status. When finished,\"\n",
    "    \" respond with FINISH.\"\n",
    "    \"{format_instructions}\"\n",
    ")\n",
    "\n",
    "# Our team supervisor is an LLM node. It just picks the next agent to process and decides when the work is completed\n",
    "options = [\"FINISH\"] + members\n",
    "\n",
    "class RouteSchema(BaseModel):\n",
    "    next: Literal[*options] = Field(..., description=\"Next step\") # type: ignore\n",
    "\n",
    "parser = JsonOutputParser(pydantic_object=RouteSchema)\n",
    "\n",
    "# Create the prompt using ChatPromptTemplate\n",
    "prompt = ChatPromptTemplate.from_messages(\n",
    "    [\n",
    "        (\"system\", system_prompt),\n",
    "        MessagesPlaceholder(variable_name=\"messages\"),\n",
    "        (\n",
    "            \"system\",\n",
    "            \"Given the conversation above, who should act next?\"\n",
    "            \" Or should we FINISH? Select one of: {options}\",\n",
    "        ),\n",
    "    ]\n",
    ").partial(options=str(options), members=\", \".join(members), format_instructions=parser.get_format_instructions())\n",
    "\n",
    "llm = ChatOpenAI(model=\"gpt-4o\")\n",
    "\n",
    "supervisor_chain = prompt | llm | parser\n",
    "\n"
   ]
  },
  {
   "cell_type": "code",
   "execution_count": 15,
   "metadata": {},
   "outputs": [],
   "source": [
    "import functools\n",
    "import operator\n",
    "from typing import Sequence, TypedDict\n",
    "from langgraph.graph import END, StateGraph, START"
   ]
  },
  {
   "cell_type": "code",
   "execution_count": 16,
   "metadata": {},
   "outputs": [],
   "source": [
    "# The agent state is the input to each node in the graph\n",
    "class AgentState(TypedDict):\n",
    "    # The annotation tells the graph that new messages will always be added to the current states\n",
    "    messages: Annotated[Sequence[BaseMessage], operator.add]\n",
    "    # The 'next' field indicates where to route to next\n",
    "    next: str\n",
    "\n",
    "# Add the research agent using the create_agent helper function\n",
    "research_agent = create_agent(llm, \"You are a web researcher.\", [wikipedia_tool])\n",
    "research_node = functools.partial(agent_node, agent=research_agent, name=\"Researcher\")\n",
    "\n",
    "# Add the time agent using the create_agent helper function\n",
    "currenttime_agent = create_agent(llm, \"You can tell the current time at\", [datetime_tool])\n",
    "currenttime_node = functools.partial(agent_node, agent=currenttime_agent, name = \"CurrentTime\")\n",
    "\n",
    "workflow = StateGraph(AgentState)\n",
    "\n",
    "workflow.add_node(\"Researcher\", research_node)\n",
    "workflow.add_node(\"CurrentTime\", currenttime_node)\n",
    "workflow.add_node(\"supervisor\", supervisor_chain)\n",
    "\n",
    "for member in members:\n",
    "    workflow.add_edge(member, \"supervisor\")\n",
    "\n",
    "workflow.set_entry_point(\"supervisor\")\n",
    "\n",
    "conditional_map = {k: k for k in members}\n",
    "conditional_map[\"FINISH\"] = END\n",
    "workflow.add_conditional_edges(\"supervisor\", lambda x: x[\"next\"], conditional_map) # 2nd argument will extract the next node from the state output by supervisor\n",
    "\n",
    "graph = workflow.compile()\n"
   ]
  },
  {
   "cell_type": "code",
   "execution_count": 17,
   "metadata": {},
   "outputs": [
    {
     "data": {
      "image/png": "[encoded data removed]",
      "text/plain": [
       "<IPython.core.display.Image object>"
      ]
     },
     "metadata": {},
     "output_type": "display_data"
    }
   ],
   "source": [
    "from IPython.display import Image, display\n",
    "display(Image(graph.get_graph().draw_mermaid_png()))"
   ]
  },
  {
   "cell_type": "code",
   "execution_count": null,
   "metadata": {},
   "outputs": [
    {
     "name": "stdout",
     "output_type": "stream",
     "text": [
      "{'supervisor': {'next': 'Researcher'}}\n",
      "----\n",
      "{'Researcher': {'messages': [HumanMessage(content=\"Photosynthesis is a biological process through which organisms like plants, algae, and cyanobacteria convert light energy, typically from sunlight, into chemical energy. This process primarily occurs in these organisms' chloroplasts and is vital for producing and maintaining the oxygen level in the Earth's atmosphere, supplying most of the biological energy needed for complex life.\\n\\n1. **Light-Dependent Reactions**: These reactions occur when light energy is absorbed by proteins called reaction centers, containing photosynthetic pigments like chlorophylls. In plants, chlorophyll absorbs red and blue light, reflecting green, and is housed in chloroplasts within leaf cells. This process involves splitting water molecules to release oxygen and using the liberated hydrogen to produce two critical molecules: ATP (adenosine triphosphate) and NADPH (reduced nicotinamide adenine dinucleotide phosphate).\\n\\n2. **Calvin Cycle (Light-Independent Reactions)**: Following the light-dependent reactions, the Calvin cycle takes place. It uses the ATP and NADPH produced earlier to convert atmospheric carbon dioxide into organic compounds, such as glucose, through a series of reactions. This cycle helps in synthesizing sugars which are later used by the organism in cellular respiration to liberate the stored chemical energy.\\n\\nWhile photosynthesis primarily produces oxygen, some bacteria can perform a variant called anoxygenic photosynthesis, which doesn't produce oxygen and uses substances like hydrogen sulfide instead of water.\\n\\nArtificial photosynthesis is a developing field that seeks to mimic this natural process to capture and store energy from sunlight effectively, but naturally occurring photosynthesis captures about 130 terawatts of energy globally, significantly influencing the Earth's energy balance and carbon cycle.\", additional_kwargs={}, response_metadata={}, name='Researcher')]}}\n",
      "----\n",
      "{'supervisor': {'next': 'FINISH'}}\n",
      "----\n"
     ]
    }
   ],
   "source": [
    "from langfuse.callback import CallbackHandler\n",
    "\n",
    "# Initialize Langfuse CallbackHandler for Langchain (tracing)\n",
    "langfuse_handler = CallbackHandler()\n",
    "\n",
    "# Add Langfuse handler as callback: config={\"callbacks\": [langfuse_handler]}\n",
    "for s in graph.stream({\"messages\": [HumanMessage(content = \"How does photosynthesis work?\")]},\n",
    "                      config={\"callbacks\": [langfuse_handler], \"run_name\": \"supervisor_202503\"}):\n",
    "    print(s)\n",
    "    print(\"----\")"
   ]
  },
  {
   "cell_type": "code",
   "execution_count": null,
   "metadata": {},
   "outputs": [],
   "source": []
  }
 ],
 "metadata": {
  "kernelspec": {
   "display_name": "langgraph",
   "language": "python",
   "name": "python3"
  },
  "language_info": {
   "codemirror_mode": {
    "name": "ipython",
    "version": 3
   },
   "file_extension": ".py",
   "mimetype": "text/x-python",
   "name": "python",
   "nbconvert_exporter": "python",
   "pygments_lexer": "ipython3",
   "version": "3.12.7"
  }
 },
 "nbformat": 4,
 "nbformat_minor": 2
}
